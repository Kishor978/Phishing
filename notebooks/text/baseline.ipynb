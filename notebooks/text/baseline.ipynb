{
 "cells": [
  {
   "cell_type": "code",
   "execution_count": 16,
   "id": "04d7c10c",
   "metadata": {},
   "outputs": [],
   "source": [
    "import pandas as pd\n",
    "import re\n",
    "import string\n",
    "from sklearn.model_selection import train_test_split\n",
    "from sklearn.feature_extraction.text import TfidfVectorizer\n",
    "from sklearn.ensemble import RandomForestClassifier\n",
    "from sklearn.metrics import classification_report, confusion_matrix, roc_auc_score, roc_curve\n",
    "import matplotlib.pyplot as plt\n",
    "import seaborn as sns\n",
    "import csv\n",
    "import sys\n",
    "import spacy\n",
    "from scipy.sparse import hstack\n",
    "import joblib"
   ]
  },
  {
   "cell_type": "code",
   "execution_count": null,
   "id": "6704c35d",
   "metadata": {},
   "outputs": [
    {
     "ename": "NameError",
     "evalue": "name 'csv' is not defined",
     "output_type": "error",
     "traceback": [
      "\u001b[31m---------------------------------------------------------------------------\u001b[39m",
      "\u001b[31mNameError\u001b[39m                                 Traceback (most recent call last)",
      "\u001b[36mCell\u001b[39m\u001b[36m \u001b[39m\u001b[32mIn[1]\u001b[39m\u001b[32m, line 1\u001b[39m\n\u001b[32m----> \u001b[39m\u001b[32m1\u001b[39m \u001b[43mcsv\u001b[49m.field_size_limit(sys.maxsize)\n",
      "\u001b[31mNameError\u001b[39m: name 'csv' is not defined"
     ]
    }
   ],
   "source": [
    "import csv\n",
    "csv.field_size_limit(sys.maxsize)"
   ]
  },
  {
   "cell_type": "code",
   "execution_count": 53,
   "id": "24f47b39",
   "metadata": {},
   "outputs": [
    {
     "name": "stdout",
     "output_type": "stream",
     "text": [
      "(120105, 7)\n",
      "                                              sender  \\\n",
      "0                 \"Hu, Sylvia\" <Sylvia.Hu@ENRON.com>   \n",
      "1                   \"Webb, Jay\" <Jay.Webb@ENRON.com>   \n",
      "2               \"Symms, Mark\" <Mark.Symms@ENRON.com>   \n",
      "3             \"Thorne, Judy\" <Judy.Thorne@ENRON.com>   \n",
      "4  \"Williams, Jason R (Credit)\" <Jason.R.Williams...   \n",
      "\n",
      "                                            receiver  \\\n",
      "0  \"Acevedo, Felecia\" <Felecia.Acevedo@ENRON.com>...   \n",
      "1           \"Lambie, Chris\" <Chris.Lambie@ENRON.com>   \n",
      "2        \"Thomas, Paul D.\" <Paul.D.Thomas@ENRON.com>   \n",
      "3  \"Grass, John\" <John.Grass@ENRON.com>, \"Nemec, ...   \n",
      "4  \"Nemec, Gerald\" <Gerald.Nemec@ENRON.com>, \"Dic...   \n",
      "\n",
      "                              date  \\\n",
      "0  Fri, 29 Jun 2001 08:36:09 -0500   \n",
      "1  Fri, 29 Jun 2001 09:37:04 -0500   \n",
      "2  Fri, 29 Jun 2001 08:39:30 -0500   \n",
      "3  Fri, 29 Jun 2001 10:35:17 -0500   \n",
      "4  Fri, 29 Jun 2001 10:40:02 -0500   \n",
      "\n",
      "                                       subject  \\\n",
      "0  FW: June 29 -- BNA, Inc. Daily Labor Report   \n",
      "1                           NGX failover plan.   \n",
      "2                            RE: Intranet Site   \n",
      "3         FW: ENA Upstream Company information   \n",
      "4                          New Master Physical   \n",
      "\n",
      "                                                body  label  urls  \n",
      "0  User ID:  enrondlr PW:        bnaweb22  -----O...    0.0   1.0  \n",
      "1  \\nHi Chris,  \\n\\nTonight we are rolling out a ...    0.0   0.0  \n",
      "2  Rika r these new?\\n\\n -----Original Message---...    0.0   1.0  \n",
      "3  John/Gerald, We are currently trading under GT...    0.0   0.0  \n",
      "4  Gerald and Stacy -\\n\\nAttached is a worksheet ...    0.0   0.0  \n"
     ]
    }
   ],
   "source": [
    "csv.field_size_limit(1_000_000_000)\n",
    "\n",
    "# Now read the file\n",
    "# df = pd.read_csv(r'E:\\Phising_detection\\dataset\\emails\\CEAS_08.csv', engine='python')\n",
    "import pandas as pd\n",
    "\n",
    "# Example: Load multiple CSV files\n",
    "df1 = pd.read_csv(r'E:\\Phising_detection\\dataset\\emails\\TREC_05.csv', engine='python')\n",
    "df2 = pd.read_csv(r'E:\\Phising_detection\\dataset\\emails\\TREC_06.csv', engine='python')\n",
    "df3 = pd.read_csv(r'E:\\Phising_detection\\dataset\\emails\\TREC_07.csv', engine='python')\n",
    "\n",
    "# ✅ Merge (concatenate) the datasets\n",
    "merged_df = pd.concat([df1, df2, df3], ignore_index=True)\n",
    "\n",
    "# ✅ Drop duplicate rows (optional)\n",
    "merged_df = merged_df.drop_duplicates()\n",
    "\n",
    "# ✅ Drop rows with NaNs (optional)\n",
    "merged_df = merged_df.dropna()\n",
    "\n",
    "# ✅ Save to a new file (optional)\n",
    "# merged_df.to_csv(\"merged_dataset.csv\", index=False)\n",
    "\n",
    "# Check the result\n",
    "print(merged_df.shape)\n",
    "print(merged_df.head())\n"
   ]
  },
  {
   "cell_type": "code",
   "execution_count": 54,
   "id": "f2b74979",
   "metadata": {},
   "outputs": [],
   "source": [
    "df= merged_df"
   ]
  },
  {
   "cell_type": "code",
   "execution_count": 55,
   "id": "b7c99fe6",
   "metadata": {},
   "outputs": [],
   "source": [
    "df.dropna(inplace=True)"
   ]
  },
  {
   "cell_type": "code",
   "execution_count": 56,
   "id": "1956274c",
   "metadata": {},
   "outputs": [
    {
     "data": {
      "text/html": [
       "<div>\n",
       "<style scoped>\n",
       "    .dataframe tbody tr th:only-of-type {\n",
       "        vertical-align: middle;\n",
       "    }\n",
       "\n",
       "    .dataframe tbody tr th {\n",
       "        vertical-align: top;\n",
       "    }\n",
       "\n",
       "    .dataframe thead th {\n",
       "        text-align: right;\n",
       "    }\n",
       "</style>\n",
       "<table border=\"1\" class=\"dataframe\">\n",
       "  <thead>\n",
       "    <tr style=\"text-align: right;\">\n",
       "      <th></th>\n",
       "      <th>sender</th>\n",
       "      <th>receiver</th>\n",
       "      <th>date</th>\n",
       "      <th>subject</th>\n",
       "      <th>body</th>\n",
       "      <th>label</th>\n",
       "      <th>urls</th>\n",
       "    </tr>\n",
       "  </thead>\n",
       "  <tbody>\n",
       "    <tr>\n",
       "      <th>0</th>\n",
       "      <td>\"Hu, Sylvia\" &lt;Sylvia.Hu@ENRON.com&gt;</td>\n",
       "      <td>\"Acevedo, Felecia\" &lt;Felecia.Acevedo@ENRON.com&gt;...</td>\n",
       "      <td>Fri, 29 Jun 2001 08:36:09 -0500</td>\n",
       "      <td>FW: June 29 -- BNA, Inc. Daily Labor Report</td>\n",
       "      <td>User ID:  enrondlr PW:        bnaweb22  -----O...</td>\n",
       "      <td>0.0</td>\n",
       "      <td>1.0</td>\n",
       "    </tr>\n",
       "    <tr>\n",
       "      <th>1</th>\n",
       "      <td>\"Webb, Jay\" &lt;Jay.Webb@ENRON.com&gt;</td>\n",
       "      <td>\"Lambie, Chris\" &lt;Chris.Lambie@ENRON.com&gt;</td>\n",
       "      <td>Fri, 29 Jun 2001 09:37:04 -0500</td>\n",
       "      <td>NGX failover plan.</td>\n",
       "      <td>\\nHi Chris,  \\n\\nTonight we are rolling out a ...</td>\n",
       "      <td>0.0</td>\n",
       "      <td>0.0</td>\n",
       "    </tr>\n",
       "    <tr>\n",
       "      <th>2</th>\n",
       "      <td>\"Symms, Mark\" &lt;Mark.Symms@ENRON.com&gt;</td>\n",
       "      <td>\"Thomas, Paul D.\" &lt;Paul.D.Thomas@ENRON.com&gt;</td>\n",
       "      <td>Fri, 29 Jun 2001 08:39:30 -0500</td>\n",
       "      <td>RE: Intranet Site</td>\n",
       "      <td>Rika r these new?\\n\\n -----Original Message---...</td>\n",
       "      <td>0.0</td>\n",
       "      <td>1.0</td>\n",
       "    </tr>\n",
       "    <tr>\n",
       "      <th>3</th>\n",
       "      <td>\"Thorne, Judy\" &lt;Judy.Thorne@ENRON.com&gt;</td>\n",
       "      <td>\"Grass, John\" &lt;John.Grass@ENRON.com&gt;, \"Nemec, ...</td>\n",
       "      <td>Fri, 29 Jun 2001 10:35:17 -0500</td>\n",
       "      <td>FW: ENA Upstream Company information</td>\n",
       "      <td>John/Gerald, We are currently trading under GT...</td>\n",
       "      <td>0.0</td>\n",
       "      <td>0.0</td>\n",
       "    </tr>\n",
       "    <tr>\n",
       "      <th>4</th>\n",
       "      <td>\"Williams, Jason R (Credit)\" &lt;Jason.R.Williams...</td>\n",
       "      <td>\"Nemec, Gerald\" &lt;Gerald.Nemec@ENRON.com&gt;, \"Dic...</td>\n",
       "      <td>Fri, 29 Jun 2001 10:40:02 -0500</td>\n",
       "      <td>New Master Physical</td>\n",
       "      <td>Gerald and Stacy -\\n\\nAttached is a worksheet ...</td>\n",
       "      <td>0.0</td>\n",
       "      <td>0.0</td>\n",
       "    </tr>\n",
       "  </tbody>\n",
       "</table>\n",
       "</div>"
      ],
      "text/plain": [
       "                                              sender  \\\n",
       "0                 \"Hu, Sylvia\" <Sylvia.Hu@ENRON.com>   \n",
       "1                   \"Webb, Jay\" <Jay.Webb@ENRON.com>   \n",
       "2               \"Symms, Mark\" <Mark.Symms@ENRON.com>   \n",
       "3             \"Thorne, Judy\" <Judy.Thorne@ENRON.com>   \n",
       "4  \"Williams, Jason R (Credit)\" <Jason.R.Williams...   \n",
       "\n",
       "                                            receiver  \\\n",
       "0  \"Acevedo, Felecia\" <Felecia.Acevedo@ENRON.com>...   \n",
       "1           \"Lambie, Chris\" <Chris.Lambie@ENRON.com>   \n",
       "2        \"Thomas, Paul D.\" <Paul.D.Thomas@ENRON.com>   \n",
       "3  \"Grass, John\" <John.Grass@ENRON.com>, \"Nemec, ...   \n",
       "4  \"Nemec, Gerald\" <Gerald.Nemec@ENRON.com>, \"Dic...   \n",
       "\n",
       "                              date  \\\n",
       "0  Fri, 29 Jun 2001 08:36:09 -0500   \n",
       "1  Fri, 29 Jun 2001 09:37:04 -0500   \n",
       "2  Fri, 29 Jun 2001 08:39:30 -0500   \n",
       "3  Fri, 29 Jun 2001 10:35:17 -0500   \n",
       "4  Fri, 29 Jun 2001 10:40:02 -0500   \n",
       "\n",
       "                                       subject  \\\n",
       "0  FW: June 29 -- BNA, Inc. Daily Labor Report   \n",
       "1                           NGX failover plan.   \n",
       "2                            RE: Intranet Site   \n",
       "3         FW: ENA Upstream Company information   \n",
       "4                          New Master Physical   \n",
       "\n",
       "                                                body  label  urls  \n",
       "0  User ID:  enrondlr PW:        bnaweb22  -----O...    0.0   1.0  \n",
       "1  \\nHi Chris,  \\n\\nTonight we are rolling out a ...    0.0   0.0  \n",
       "2  Rika r these new?\\n\\n -----Original Message---...    0.0   1.0  \n",
       "3  John/Gerald, We are currently trading under GT...    0.0   0.0  \n",
       "4  Gerald and Stacy -\\n\\nAttached is a worksheet ...    0.0   0.0  "
      ]
     },
     "execution_count": 56,
     "metadata": {},
     "output_type": "execute_result"
    }
   ],
   "source": [
    "df.head()"
   ]
  },
  {
   "cell_type": "code",
   "execution_count": 57,
   "id": "d222f0f5",
   "metadata": {},
   "outputs": [
    {
     "data": {
      "text/plain": [
       "array([0., 1.])"
      ]
     },
     "execution_count": 57,
     "metadata": {},
     "output_type": "execute_result"
    }
   ],
   "source": [
    "df['label'].unique()"
   ]
  },
  {
   "cell_type": "code",
   "execution_count": null,
   "id": "b6126457",
   "metadata": {},
   "outputs": [],
   "source": [
    "def clean_text(text):\n",
    "    text = re.sub(r'\\n', ' ', str(text))\n",
    "    text = re.sub(r'\\s+', ' ', text)\n",
    "    text = text.lower()\n",
    "    text = re.sub(rf\"[{string.punctuation}]\", \"\", text)\n",
    "    return text.strip()\n",
    "nlp = spacy.load(\"en_core_web_sm\", disable=[\"ner\", \"parser\"])\n",
    "\n",
    "# def preprocess(text):\n",
    "#     text = clean_text(text)\n",
    "#     doc = nlp(text)\n",
    "#     return \" \".join([\n",
    "#         token.lemma_ for token in doc\n",
    "#         if token.is_alpha and not token.is_stop and len(token) > 1\n",
    "#     ])"
   ]
  },
  {
   "cell_type": "code",
   "execution_count": 59,
   "id": "36b55fa1",
   "metadata": {},
   "outputs": [
    {
     "name": "stdout",
     "output_type": "stream",
     "text": [
      "              precision    recall  f1-score   support\n",
      "\n",
      "         0.0       0.98      0.99      0.98     13462\n",
      "         1.0       0.98      0.98      0.98     10559\n",
      "\n",
      "    accuracy                           0.98     24021\n",
      "   macro avg       0.98      0.98      0.98     24021\n",
      "weighted avg       0.98      0.98      0.98     24021\n",
      "\n",
      "ROC AUC: 0.9984089268739447\n"
     ]
    },
    {
     "data": {
      "image/png": "[encoded data removed]",
      "text/plain": [
       "<Figure size 500x400 with 2 Axes>"
      ]
     },
     "metadata": {},
     "output_type": "display_data"
    },
    {
     "data": {
      "image/png": "[encoded data removed]",
      "text/plain": [
       "<Figure size 640x480 with 1 Axes>"
      ]
     },
     "metadata": {},
     "output_type": "display_data"
    },
    {
     "data": {
      "text/plain": [
       "['tfidf_body.pkl']"
      ]
     },
     "execution_count": 59,
     "metadata": {},
     "output_type": "execute_result"
    }
   ],
   "source": [
    "# -------------------- TF-IDF Vectorization --------------------\n",
    "subject_vectorizer = TfidfVectorizer(max_features=1000)\n",
    "body_vectorizer = TfidfVectorizer(max_features=4000)\n",
    "\n",
    "X_subject = subject_vectorizer.fit_transform(df[\"subject\"])\n",
    "X_body = body_vectorizer.fit_transform(df[\"body\"])\n",
    "\n",
    "X_combined = hstack([X_subject, X_body])\n",
    "y = df[\"label\"]\n",
    "\n",
    "# -------------------- Train/Test Split --------------------\n",
    "X_train, X_val, y_train, y_val = train_test_split(X_combined, y, test_size=0.2, stratify=y, random_state=42)\n",
    "\n",
    "# -------------------- Train Random Forest --------------------\n",
    "clf = RandomForestClassifier(n_estimators=100, random_state=42)\n",
    "clf.fit(X_train, y_train)\n",
    "\n",
    "# -------------------- Evaluate --------------------\n",
    "y_pred = clf.predict(X_val)\n",
    "y_prob = clf.predict_proba(X_val)[:, 1]\n",
    "\n",
    "print(classification_report(y_val, y_pred))\n",
    "print(\"ROC AUC:\", roc_auc_score(y_val, y_prob))\n",
    "\n",
    "# -------------------- Confusion Matrix --------------------\n",
    "plt.figure(figsize=(5, 4))\n",
    "sns.heatmap(confusion_matrix(y_val, y_pred), annot=True, fmt='d', cmap='Blues',\n",
    "            xticklabels=['Legit', 'Phish'], yticklabels=['Legit', 'Phish'])\n",
    "plt.xlabel(\"Predicted\"); plt.ylabel(\"Actual\"); plt.title(\"Confusion Matrix\")\n",
    "plt.tight_layout(); plt.show()\n",
    "\n",
    "# -------------------- ROC Curve --------------------\n",
    "fpr, tpr, _ = roc_curve(y_val, y_prob)\n",
    "plt.plot(fpr, tpr, label=f\"AUC = {roc_auc_score(y_val, y_prob):.2f}\")\n",
    "plt.plot([0, 1], [0, 1], linestyle='--', color='gray')\n",
    "plt.xlabel(\"FPR\"); plt.ylabel(\"TPR\"); plt.title(\"ROC Curve\")\n",
    "plt.legend(); plt.tight_layout(); plt.show()\n",
    "\n",
    "# -------------------- Save Model and Vectorizers --------------------\n",
    "joblib.dump(clf, \"rf_email_model.pkl\")\n",
    "joblib.dump(subject_vectorizer, \"tfidf_subject.pkl\")\n",
    "joblib.dump(body_vectorizer, \"tfidf_body.pkl\")\n"
   ]
  }
 ],
 "metadata": {
  "kernelspec": {
   "display_name": "venv",
   "language": "python",
   "name": "python3"
  },
  "language_info": {
   "codemirror_mode": {
    "name": "ipython",
    "version": 3
   },
   "file_extension": ".py",
   "mimetype": "text/x-python",
   "name": "python",
   "nbconvert_exporter": "python",
   "pygments_lexer": "ipython3",
   "version": "3.12.3"
  }
 },
 "nbformat": 4,
 "nbformat_minor": 5
}
