{
 "cells": [
  {
   "cell_type": "code",
   "execution_count": null,
   "id": "04d7c10c",
   "metadata": {},
   "outputs": [],
   "source": [
    "import pandas as pd\n",
    "import re\n",
    "import string\n",
    "from sklearn.model_selection import train_test_split\n",
    "from sklearn.feature_extraction.text import TfidfVectorizer\n",
    "from sklearn.ensemble import RandomForestClassifier\n",
    "from sklearn.metrics import classification_report, confusion_matrix, roc_auc_score, roc_curve\n",
    "import matplotlib.pyplot as plt\n",
    "import seaborn as sns\n",
    "import csv\n",
    "import sys\n",
    "import spacy\n",
    "from scipy.sparse import hstack\n",
    "import joblib"
   ]
  },
  {
   "cell_type": "code",
   "execution_count": null,
   "id": "6704c35d",
   "metadata": {},
   "outputs": [],
   "source": [
    "import csv\n",
    "csv.field_size_limit(sys.maxsize)"
   ]
  },
  {
   "cell_type": "code",
   "execution_count": null,
   "id": "24f47b39",
   "metadata": {},
   "outputs": [],
   "source": [
    "csv.field_size_limit(1_000_000_000)\n",
    "\n",
    "# Now read the file\n",
    "# df = pd.read_csv(r'E:\\Phising_detection\\dataset\\emails\\CEAS_08.csv', engine='python')\n",
    "import pandas as pd\n",
    "\n",
    "# Example: Load multiple CSV files\n",
    "df1 = pd.read_csv(r'E:\\Phising_detection\\dataset\\emails\\TREC_05.csv', engine='python')\n",
    "df2 = pd.read_csv(r'E:\\Phising_detection\\dataset\\emails\\TREC_06.csv', engine='python')\n",
    "df3 = pd.read_csv(r'E:\\Phising_detection\\dataset\\emails\\TREC_07.csv', engine='python')\n",
    "\n",
    "# ✅ Merge (concatenate) the datasets\n",
    "merged_df = pd.concat([df1, df2, df3], ignore_index=True)\n",
    "\n",
    "# ✅ Drop duplicate rows (optional)\n",
    "merged_df = merged_df.drop_duplicates()\n",
    "\n",
    "# ✅ Drop rows with NaNs (optional)\n",
    "merged_df = merged_df.dropna()\n",
    "\n",
    "# ✅ Save to a new file (optional)\n",
    "# merged_df.to_csv(\"merged_dataset.csv\", index=False)\n",
    "\n",
    "# Check the result\n",
    "print(merged_df.shape)\n",
    "print(merged_df.head())\n"
   ]
  },
  {
   "cell_type": "code",
   "execution_count": null,
   "id": "f2b74979",
   "metadata": {},
   "outputs": [],
   "source": [
    "df= merged_df"
   ]
  },
  {
   "cell_type": "code",
   "execution_count": null,
   "id": "b7c99fe6",
   "metadata": {},
   "outputs": [],
   "source": [
    "df.dropna(inplace=True)"
   ]
  },
  {
   "cell_type": "code",
   "execution_count": null,
   "id": "1956274c",
   "metadata": {},
   "outputs": [],
   "source": [
    "df.head()"
   ]
  },
  {
   "cell_type": "code",
   "execution_count": null,
   "id": "d222f0f5",
   "metadata": {},
   "outputs": [],
   "source": [
    "df['label'].unique()"
   ]
  },
  {
   "cell_type": "code",
   "execution_count": null,
   "id": "b6126457",
   "metadata": {},
   "outputs": [],
   "source": [
    "def clean_text(text):\n",
    "    text = re.sub(r'\\n', ' ', str(text))\n",
    "    text = re.sub(r'\\s+', ' ', text)\n",
    "    text = text.lower()\n",
    "    text = re.sub(rf\"[{string.punctuation}]\", \"\", text)\n",
    "    return text.strip()\n",
    "nlp = spacy.load(\"en_core_web_sm\", disable=[\"ner\", \"parser\"])\n",
    "\n",
    "# def preprocess(text):\n",
    "#     text = clean_text(text)\n",
    "#     doc = nlp(text)\n",
    "#     return \" \".join([\n",
    "#         token.lemma_ for token in doc\n",
    "#         if token.is_alpha and not token.is_stop and len(token) > 1\n",
    "#     ])"
   ]
  },
  {
   "cell_type": "code",
   "execution_count": null,
   "id": "36b55fa1",
   "metadata": {},
   "outputs": [],
   "source": [
    "# -------------------- TF-IDF Vectorization --------------------\n",
    "subject_vectorizer = TfidfVectorizer(max_features=1000)\n",
    "body_vectorizer = TfidfVectorizer(max_features=4000)\n",
    "\n",
    "X_subject = subject_vectorizer.fit_transform(df[\"subject\"])\n",
    "X_body = body_vectorizer.fit_transform(df[\"body\"])\n",
    "\n",
    "X_combined = hstack([X_subject, X_body])\n",
    "y = df[\"label\"]\n",
    "\n",
    "# -------------------- Train/Test Split --------------------\n",
    "X_train, X_val, y_train, y_val = train_test_split(X_combined, y, test_size=0.2, stratify=y, random_state=42)\n",
    "\n",
    "# -------------------- Train Random Forest --------------------\n",
    "clf = RandomForestClassifier(n_estimators=100, random_state=42)\n",
    "clf.fit(X_train, y_train)\n",
    "\n",
    "# -------------------- Evaluate --------------------\n",
    "y_pred = clf.predict(X_val)\n",
    "y_prob = clf.predict_proba(X_val)[:, 1]\n",
    "\n",
    "print(classification_report(y_val, y_pred))\n",
    "print(\"ROC AUC:\", roc_auc_score(y_val, y_prob))\n",
    "\n",
    "# -------------------- Confusion Matrix --------------------\n",
    "plt.figure(figsize=(5, 4))\n",
    "sns.heatmap(confusion_matrix(y_val, y_pred), annot=True, fmt='d', cmap='Blues',\n",
    "            xticklabels=['Legit', 'Phish'], yticklabels=['Legit', 'Phish'])\n",
    "plt.xlabel(\"Predicted\"); plt.ylabel(\"Actual\"); plt.title(\"Confusion Matrix\")\n",
    "plt.tight_layout(); plt.show()\n",
    "\n",
    "# -------------------- ROC Curve --------------------\n",
    "fpr, tpr, _ = roc_curve(y_val, y_prob)\n",
    "plt.plot(fpr, tpr, label=f\"AUC = {roc_auc_score(y_val, y_prob):.2f}\")\n",
    "plt.plot([0, 1], [0, 1], linestyle='--', color='gray')\n",
    "plt.xlabel(\"FPR\"); plt.ylabel(\"TPR\"); plt.title(\"ROC Curve\")\n",
    "plt.legend(); plt.tight_layout(); plt.show()\n",
    "\n",
    "# -------------------- Save Model and Vectorizers --------------------\n",
    "joblib.dump(clf, \"rf_email_model.pkl\")\n",
    "joblib.dump(subject_vectorizer, \"tfidf_subject.pkl\")\n",
    "joblib.dump(body_vectorizer, \"tfidf_body.pkl\")\n"
   ]
  }
 ],
 "metadata": {
  "kernelspec": {
   "display_name": "venv",
   "language": "python",
   "name": "python3"
  },
  "language_info": {
   "codemirror_mode": {
    "name": "ipython",
    "version": 3
   },
   "file_extension": ".py",
   "mimetype": "text/x-python",
   "name": "python",
   "nbconvert_exporter": "python",
   "pygments_lexer": "ipython3",
   "version": "3.12.3"
  }
 },
 "nbformat": 4,
 "nbformat_minor": 5
}
