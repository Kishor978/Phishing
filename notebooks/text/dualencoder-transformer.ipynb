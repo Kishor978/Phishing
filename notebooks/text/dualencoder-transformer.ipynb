{
 "cells": [
  {
   "cell_type": "code",
   "execution_count": null,
   "metadata": {
    "execution": {
     "iopub.execute_input": "2025-07-20T08:19:57.235527Z",
     "iopub.status.busy": "2025-07-20T08:19:57.235244Z",
     "iopub.status.idle": "2025-07-20T08:20:04.953576Z",
     "shell.execute_reply": "2025-07-20T08:20:04.952798Z",
     "shell.execute_reply.started": "2025-07-20T08:19:57.235503Z"
    },
    "trusted": true
   },
   "outputs": [],
   "source": [
    "import pandas as pd\n",
    "import re\n",
    "import torch\n",
    "import torch.nn as nn\n",
    "import torch.optim as optim\n",
    "from sklearn.model_selection import train_test_split\n",
    "from sklearn.metrics import classification_report, f1_score\n",
    "from torch.utils.data import Dataset, DataLoader\n",
    "import matplotlib.pyplot as plt\n",
    "import spacy\n",
    "from tqdm import tqdm\n",
    "import numpy as np"
   ]
  },
  {
   "cell_type": "code",
   "execution_count": null,
   "metadata": {
    "_cell_guid": "b1076dfc-b9ad-4769-8c92-a6c4dae69d19",
    "_uuid": "8f2839f25d086af736a60e9eeb907d3b93b6e0e5",
    "execution": {
     "iopub.execute_input": "2025-07-20T08:20:04.955137Z",
     "iopub.status.busy": "2025-07-20T08:20:04.954809Z",
     "iopub.status.idle": "2025-07-20T08:20:05.630822Z",
     "shell.execute_reply": "2025-07-20T08:20:05.630219Z",
     "shell.execute_reply.started": "2025-07-20T08:20:04.955119Z"
    },
    "trusted": true
   },
   "outputs": [],
   "source": [
    "\n",
    "\n",
    "# --------------------- Preprocessing ---------------------\n",
    "nlp = spacy.load(\"en_core_web_sm\", disable=[\"ner\", \"parser\"])\n",
    "nlp.max_length = 3_000_000\n",
    "\n",
    "def clean_text(text):\n",
    "    text = str(text).encode(\"utf-8\", errors=\"ignore\").decode(\"utf-8\", errors=\"ignore\")\n",
    "    text = re.sub(r\"[\\r\\n\\t]\", \" \", text)\n",
    "    text = re.sub(r\"\\s+\", \" \", text)\n",
    "    return text.strip()\n",
    "\n",
    "def preprocess(text):\n",
    "    text = clean_text(text[:5000])  # Truncate long bodies\n",
    "    doc = nlp(text.lower())\n",
    "    return [token.lemma_ for token in doc if token.is_alpha and not token.is_stop and len(token) > 1]\n",
    "\n",
    "# --------------------- Dataset ---------------------\n",
    "class DualEncoderEmailDataset(Dataset):\n",
    "    def __init__(self, subjects, bodies, labels, vocab=None, max_len=200):\n",
    "        self.max_len = max_len\n",
    "        self.subj_tokens = [preprocess(t) for t in subjects]\n",
    "        self.body_tokens = [preprocess(t) for t in bodies]\n",
    "        self.labels = torch.tensor(labels.values, dtype=torch.float)\n",
    "        if vocab is None:\n",
    "            self.build_vocab()\n",
    "        else:\n",
    "            self.vocab = vocab\n",
    "        self.subj_encoded = [self.encode(seq) for seq in self.subj_tokens]\n",
    "        self.body_encoded = [self.encode(seq) for seq in self.body_tokens]\n",
    "\n",
    "    def build_vocab(self):\n",
    "        vocab = {\"<PAD>\": 0, \"<UNK>\": 1}\n",
    "        idx = 2\n",
    "        for tokens in self.subj_tokens + self.body_tokens:\n",
    "            for t in tokens:\n",
    "                if t not in vocab:\n",
    "                    vocab[t] = idx\n",
    "                    idx += 1\n",
    "        self.vocab = vocab\n",
    "\n",
    "    def encode(self, tokens):\n",
    "        ids = [self.vocab.get(t, self.vocab[\"<UNK>\"]) for t in tokens[:self.max_len]]\n",
    "        if len(ids) < self.max_len:\n",
    "            ids += [self.vocab[\"<PAD>\"]] * (self.max_len - len(ids))\n",
    "        return torch.tensor(ids)\n",
    "\n",
    "    def __len__(self):\n",
    "        return len(self.labels)\n",
    "\n",
    "    def __getitem__(self, idx):\n",
    "        return self.subj_encoded[idx], self.body_encoded[idx], self.labels[idx]\n",
    "\n",
    "# --------------------- Attention ---------------------\n",
    "class Attention(nn.Module):\n",
    "    def __init__(self, hidden_dim):\n",
    "        super().__init__()\n",
    "        self.attn = nn.Linear(hidden_dim * 2, 1)\n",
    "\n",
    "    def forward(self, encoder_outputs):\n",
    "        weights = self.attn(encoder_outputs).squeeze(-1)\n",
    "        weights = torch.softmax(weights, dim=1)\n",
    "        context = torch.sum(encoder_outputs * weights.unsqueeze(-1), dim=1)\n",
    "        return context\n",
    "\n",
    "# --------------------- Dual Encoder with Attention Fusion ---------------------\n",
    "class DualEncoderAttentionFusion(nn.Module):\n",
    "    def __init__(self, vocab_size, embed_dim=100, hidden_dim=128):\n",
    "        super().__init__()\n",
    "        self.embedding = nn.Embedding(vocab_size, embed_dim, padding_idx=0)\n",
    "        self.lstm_subj = nn.LSTM(embed_dim, hidden_dim, bidirectional=True, batch_first=True)\n",
    "        self.lstm_body = nn.LSTM(embed_dim, hidden_dim, bidirectional=True, batch_first=True)\n",
    "        self.attn_subj = Attention(hidden_dim)\n",
    "        self.attn_body = Attention(hidden_dim)\n",
    "        self.dropout = nn.Dropout(0.3)\n",
    "        self.fc1 = nn.Linear(hidden_dim * 4, 64)\n",
    "        self.fc2 = nn.Linear(64, 1)\n",
    "\n",
    "    def forward(self, subj, body):\n",
    "        subj_embed = self.embedding(subj)\n",
    "        body_embed = self.embedding(body)\n",
    "\n",
    "        subj_out, _ = self.lstm_subj(subj_embed)\n",
    "        body_out, _ = self.lstm_body(body_embed)\n",
    "\n",
    "        subj_ctx = self.attn_subj(subj_out)\n",
    "        body_ctx = self.attn_body(body_out)\n",
    "\n",
    "        fusion = torch.cat((subj_ctx, body_ctx), dim=1)\n",
    "        fusion = self.dropout(fusion)\n",
    "        fusion = torch.relu(self.fc1(fusion))\n",
    "        return torch.sigmoid(self.fc2(fusion)).squeeze()\n",
    "\n"
   ]
  },
  {
   "cell_type": "code",
   "execution_count": null,
   "metadata": {
    "execution": {
     "iopub.execute_input": "2025-07-20T08:20:05.631603Z",
     "iopub.status.busy": "2025-07-20T08:20:05.631383Z",
     "iopub.status.idle": "2025-07-20T08:20:05.640011Z",
     "shell.execute_reply": "2025-07-20T08:20:05.639134Z",
     "shell.execute_reply.started": "2025-07-20T08:20:05.631588Z"
    },
    "trusted": true
   },
   "outputs": [],
   "source": [
    "# --------------------- Train Function ---------------------\n",
    "def train_model(model, train_loader, val_loader, optimizer, criterion, scheduler, device, epochs=10):\n",
    "    best_model = None\n",
    "    best_f1 = 0\n",
    "    history = {\"train_loss\": [], \"val_loss\": [], \"val_acc\": [], \"val_f1\": []}\n",
    "\n",
    "    for epoch in range(epochs):\n",
    "        model.train()\n",
    "        total_loss = 0\n",
    "        for subj, body, y in tqdm(train_loader, desc=f\"Epoch {epoch+1} [Train]\"):\n",
    "            subj, body, y = subj.to(device), body.to(device), y.to(device)\n",
    "            optimizer.zero_grad()\n",
    "            out = model(subj, body)\n",
    "            loss = criterion(out, y)\n",
    "            loss.backward()\n",
    "            optimizer.step()\n",
    "            total_loss += loss.item()\n",
    "        history[\"train_loss\"].append(total_loss / len(train_loader))\n",
    "\n",
    "        model.eval()\n",
    "        val_loss = 0\n",
    "        preds, labels = [], []\n",
    "        with torch.no_grad():\n",
    "            for subj, body, y in tqdm(val_loader, desc=f\"Epoch {epoch+1} [Val]\"):\n",
    "                subj, body, y = subj.to(device), body.to(device), y.to(device)\n",
    "                out = model(subj, body)\n",
    "                loss = criterion(out, y)\n",
    "                val_loss += loss.item()\n",
    "                preds.extend((out > 0.5).int().cpu().numpy())\n",
    "                labels.extend(y.cpu().numpy())\n",
    "\n",
    "        history[\"val_loss\"].append(val_loss / len(val_loader))\n",
    "        acc = np.mean(np.array(preds) == np.array(labels))\n",
    "        f1 = f1_score(labels, preds, pos_label=1) if 1 in preds else 0.0\n",
    "        history[\"val_acc\"].append(acc)\n",
    "        history[\"val_f1\"].append(f1)\n",
    "\n",
    "        print(f\"Epoch {epoch+1}: Train Loss={history['train_loss'][-1]:.4f} | Val Loss={history['val_loss'][-1]:.4f}, Acc={acc:.4f}, F1={f1:.4f}\")\n",
    "\n",
    "        if f1 > best_f1:\n",
    "            best_f1 = f1\n",
    "            best_model = model.state_dict()\n",
    "\n",
    "        scheduler.step(f1)\n",
    "\n",
    "    torch.save(best_model, \"best_dual_encoder_attn.pt\")\n",
    "    return model, history\n",
    "\n",
    "\n"
   ]
  },
  {
   "cell_type": "code",
   "execution_count": null,
   "metadata": {
    "execution": {
     "iopub.execute_input": "2025-07-20T08:20:05.641733Z",
     "iopub.status.busy": "2025-07-20T08:20:05.641557Z",
     "iopub.status.idle": "2025-07-20T08:20:05.655560Z",
     "shell.execute_reply": "2025-07-20T08:20:05.654971Z",
     "shell.execute_reply.started": "2025-07-20T08:20:05.641719Z"
    },
    "trusted": true
   },
   "outputs": [],
   "source": [
    "import csv\n",
    "# Use a large but safe value\n",
    "csv.field_size_limit(2**31 - 1)"
   ]
  },
  {
   "cell_type": "code",
   "execution_count": null,
   "metadata": {
    "execution": {
     "iopub.execute_input": "2025-07-20T08:20:05.656514Z",
     "iopub.status.busy": "2025-07-20T08:20:05.656261Z",
     "iopub.status.idle": "2025-07-20T08:36:12.527916Z",
     "shell.execute_reply": "2025-07-20T08:36:12.527111Z",
     "shell.execute_reply.started": "2025-07-20T08:20:05.656492Z"
    },
    "trusted": true
   },
   "outputs": [],
   "source": [
    "df = pd.read_csv(\"/kaggle/input/phishing/emails/TREC_07.csv\",engine='python')\n",
    "df.dropna(subset=['subject', 'body', 'label'], inplace=True)\n",
    "\n",
    "train_df, val_df = train_test_split(df, test_size=0.2, stratify=df['label'], random_state=42)\n",
    "train_ds = DualEncoderEmailDataset(train_df['subject'], train_df['body'], train_df['label'])\n",
    "val_ds = DualEncoderEmailDataset(val_df['subject'], val_df['body'], val_df['label'], vocab=train_ds.vocab)\n",
    "\n",
    "train_loader = DataLoader(train_ds, batch_size=64, shuffle=True)\n",
    "val_loader = DataLoader(val_ds, batch_size=64)\n",
    "\n",
    "device = torch.device(\"cuda\" if torch.cuda.is_available() else \"cpu\")\n",
    "model = DualEncoderAttentionFusion(vocab_size=len(train_ds.vocab)).to(device)\n",
    "optimizer = optim.Adam(model.parameters(), lr=1e-3)\n",
    "scheduler = optim.lr_scheduler.ReduceLROnPlateau(optimizer, mode='max', patience=2)\n",
    "criterion = nn.BCELoss()\n",
    "\n"
   ]
  },
  {
   "cell_type": "code",
   "execution_count": null,
   "metadata": {
    "execution": {
     "iopub.execute_input": "2025-07-20T08:36:12.529313Z",
     "iopub.status.busy": "2025-07-20T08:36:12.528787Z",
     "iopub.status.idle": "2025-07-20T08:39:35.935885Z",
     "shell.execute_reply": "2025-07-20T08:39:35.935233Z",
     "shell.execute_reply.started": "2025-07-20T08:36:12.529287Z"
    },
    "trusted": true
   },
   "outputs": [],
   "source": [
    "model, history = train_model(model, train_loader, val_loader, optimizer, criterion, scheduler, device)\n",
    "\n",
    "# Plot Loss/Accuracy\n",
    "plt.plot(history['train_loss'], label='Train Loss')\n",
    "plt.plot(history['val_loss'], label='Val Loss')\n",
    "plt.title(\"Loss over Epochs\")\n",
    "plt.legend(); plt.show()\n",
    "\n",
    "plt.plot(history['val_acc'], label='Val Accuracy')\n",
    "plt.plot(history['val_f1'], label='Val F1 Score')\n",
    "plt.title(\"Validation Metrics\")\n",
    "plt.legend(); plt.show()"
   ]
  },
  {
   "cell_type": "code",
   "execution_count": null,
   "metadata": {
    "trusted": true
   },
   "outputs": [],
   "source": []
  }
 ],
 "metadata": {
  "kaggle": {
   "accelerator": "nvidiaTeslaT4",
   "dataSources": [
    {
     "datasetId": 7881303,
     "sourceId": 12489347,
     "sourceType": "datasetVersion"
    }
   ],
   "dockerImageVersionId": 31090,
   "isGpuEnabled": true,
   "isInternetEnabled": true,
   "language": "python",
   "sourceType": "notebook"
  },
  "kernelspec": {
   "display_name": "Python 3",
   "language": "python",
   "name": "python3"
  },
  "language_info": {
   "codemirror_mode": {
    "name": "ipython",
    "version": 3
   },
   "file_extension": ".py",
   "mimetype": "text/x-python",
   "name": "python",
   "nbconvert_exporter": "python",
   "pygments_lexer": "ipython3",
   "version": "3.11.13"
  }
 },
 "nbformat": 4,
 "nbformat_minor": 4
}
