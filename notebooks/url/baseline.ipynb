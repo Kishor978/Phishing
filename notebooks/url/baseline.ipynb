{
 "cells": [
  {
   "cell_type": "code",
   "execution_count": null,
   "id": "ef691953",
   "metadata": {},
   "outputs": [],
   "source": [
    "import pandas as pd\n",
    "from sklearn.model_selection import train_test_split\n",
    "from sklearn.feature_extraction.text import TfidfVectorizer\n",
    "from sklearn.preprocessing import StandardScaler\n",
    "from sklearn.ensemble import RandomForestClassifier\n",
    "from sklearn.metrics import classification_report\n",
    "from scipy.sparse import hstack, csr_matrix\n",
    "import joblib"
   ]
  },
  {
   "cell_type": "code",
   "execution_count": null,
   "id": "f06dabd5",
   "metadata": {},
   "outputs": [],
   "source": [
    "df=pd.read_txt()"
   ]
  },
  {
   "cell_type": "code",
   "execution_count": null,
   "id": "32a2d365",
   "metadata": {},
   "outputs": [],
   "source": [
    "df=pd.read_json(r\"E:\\Phising_detection\\dataset\\urls.json\")\n",
    "df.shape"
   ]
  },
  {
   "cell_type": "code",
   "execution_count": null,
   "id": "31e3a39b",
   "metadata": {},
   "outputs": [],
   "source": [
    "# Load your dataset\n",
    "# df = pd.read_csv(r\"E:\\Phising_detection\\dataset\\PhiUSIIL_Phishing_URL_Dataset.csv\")\n",
    "df.dropna(inplace=True)\n",
    "df.drop_duplicates(inplace=True)\n",
    "# Check the first few rows\n",
    "print(df.head())\n",
    "print(df.columns)"
   ]
  },
  {
   "cell_type": "code",
   "execution_count": null,
   "id": "853ab819",
   "metadata": {},
   "outputs": [],
   "source": [
    "df['label']"
   ]
  },
  {
   "cell_type": "code",
   "execution_count": null,
   "id": "2b68d147",
   "metadata": {},
   "outputs": [],
   "source": [
    "df.shape"
   ]
  },
  {
   "cell_type": "code",
   "execution_count": null,
   "id": "161c6144",
   "metadata": {},
   "outputs": [],
   "source": [
    "# selected_features = [\n",
    "#     'URLLength', 'DomainLength', 'TLDLength', 'NoOfSubDomain', 'IsDomainIP',\n",
    "#     'NoOfLettersInURL', 'NoOfDegitsInURL', 'LetterRatioInURL', 'DegitRatioInURL',\n",
    "#     'NoOfEqualsInURL', 'NoOfQMarkInURL', 'NoOfAmpersandInURL', 'SpacialCharRatioInURL',\n",
    "#     'Bank', 'Pay', 'Crypto'\n",
    "# ]"
   ]
  },
  {
   "cell_type": "code",
   "execution_count": null,
   "id": "b68f95ab",
   "metadata": {},
   "outputs": [],
   "source": [
    "# X_numeric = df[selected_features]"
   ]
  },
  {
   "cell_type": "code",
   "execution_count": null,
   "id": "c1716f1a",
   "metadata": {},
   "outputs": [],
   "source": [
    "# X_numeric"
   ]
  },
  {
   "cell_type": "code",
   "execution_count": null,
   "id": "ad5576e4",
   "metadata": {},
   "outputs": [],
   "source": [
    "# scaler = StandardScaler()\n",
    "# X_numeric_scaled = scaler.fit_transform(X_numeric)"
   ]
  },
  {
   "cell_type": "code",
   "execution_count": null,
   "id": "da3f1910",
   "metadata": {},
   "outputs": [],
   "source": [
    "# Prepare TF-IDF from raw URL string\n",
    "vectorizer = TfidfVectorizer(analyzer='char', ngram_range=(3, 6), max_features=3000)\n",
    "X_tfidf = vectorizer.fit_transform(df['text'].astype(str))"
   ]
  },
  {
   "cell_type": "code",
   "execution_count": null,
   "id": "ed5b95b2",
   "metadata": {},
   "outputs": [],
   "source": [
    "df['label']"
   ]
  },
  {
   "cell_type": "code",
   "execution_count": null,
   "id": "944feb0f",
   "metadata": {},
   "outputs": [],
   "source": [
    "# Combine both inputs\n",
    "# X_combined = hstack([X_tfidf, csr_matrix(X_numeric_scaled)])\n",
    "y = df['label']\n",
    "\n",
    "# Train/test split\n",
    "X_train, X_test, y_train, y_test = train_test_split(\n",
    "    X_tfidf, y, test_size=0.2, stratify=y, random_state=42\n",
    ")"
   ]
  },
  {
   "cell_type": "code",
   "execution_count": null,
   "id": "6e905af7",
   "metadata": {},
   "outputs": [],
   "source": [
    "# Train model\n",
    "clf = RandomForestClassifier(n_estimators=100, random_state=42)\n",
    "clf.fit(X_train, y_train)\n",
    "\n",
    "# Evaluate\n",
    "y_pred = clf.predict(X_test)\n",
    "print(classification_report(y_test, y_pred))"
   ]
  },
  {
   "cell_type": "code",
   "execution_count": null,
   "id": "cc050b8c",
   "metadata": {},
   "outputs": [],
   "source": [
    "\n",
    "\n",
    "# Save Random Forest model\n",
    "joblib.dump(clf, \"url_model.pkl\")\n",
    "\n",
    "# Save TF-IDF vectorizer\n",
    "joblib.dump(vectorizer, \"vectorizer.pkl\")\n",
    "\n",
    "# Save feature scaler\n",
    "# joblib.dump(scaler, \"feature_scaler.pkl\")\n"
   ]
  },
  {
   "cell_type": "code",
   "execution_count": null,
   "id": "315367a8",
   "metadata": {},
   "outputs": [],
   "source": [
    "import tldextract\n",
    "import ipaddress\n",
    "\n",
    "def extract_safe_url_features(url):\n",
    "    ext = tldextract.extract(url)\n",
    "    domain = ext.domain + '.' + ext.suffix\n",
    "    subdomain = ext.subdomain\n",
    "    try:\n",
    "        ipaddress.ip_address(domain)\n",
    "        is_domain_ip = 1\n",
    "    except ValueError:\n",
    "        is_domain_ip = 0\n",
    "\n",
    "    letters = sum(c.isalpha() for c in url)\n",
    "    digits = sum(c.isdigit() for c in url)\n",
    "    specials = sum(not c.isalnum() for c in url)\n",
    "\n",
    "    return {\n",
    "        \"URLLength\": len(url),\n",
    "        \"DomainLength\": len(domain),\n",
    "        \"TLDLength\": len(ext.suffix),\n",
    "        \"NoOfSubDomain\": subdomain.count('.') + (1 if subdomain else 0),\n",
    "        \"IsDomainIP\": is_domain_ip,\n",
    "        \"NoOfLettersInURL\": letters,\n",
    "        \"NoOfDegitsInURL\": digits,\n",
    "        \"LetterRatioInURL\": round(letters / len(url), 3),\n",
    "        \"DegitRatioInURL\": round(digits / len(url), 3),\n",
    "        \"NoOfEqualsInURL\": url.count('='),\n",
    "        \"NoOfQMarkInURL\": url.count('?'),\n",
    "        \"NoOfAmpersandInURL\": url.count('&'),\n",
    "        \"SpacialCharRatioInURL\": round(specials / len(url), 3),\n",
    "        \"Bank\": int(\"bank\" in url.lower()),\n",
    "        \"Pay\": int(\"pay\" in url.lower()),\n",
    "        \"Crypto\": int(\"crypto\" in url.lower())\n",
    "    }\n"
   ]
  },
  {
   "cell_type": "code",
   "execution_count": null,
   "id": "a1fa8425",
   "metadata": {},
   "outputs": [],
   "source": [
    "import numpy as np\n",
    "from scipy.sparse import hstack\n",
    "\n",
    "def predict_url_phishing(url):\n",
    "    # Load saved objects\n",
    "    clf = joblib.load(\"url_model.pkl\")\n",
    "    vectorizer = joblib.load(\"vectorizer.pkl\")\n",
    "    # scaler = joblib.load(\"feature_scaler.pkl\")\n",
    "\n",
    "    # Extract features\n",
    "    # features = extract_safe_url_features(url)\n",
    "    # print(features)\n",
    "    # # numeric = np.array([list(features.values())])\n",
    "    # numeric_scaled = scaler.transform(numeric)\n",
    "\n",
    "    # TF-IDF transform\n",
    "    tfidf_vector = vectorizer.transform([url])\n",
    "\n",
    "    # Combine and predict\n",
    "    # X_combined = hstack([tfidf_vector, numeric_scaled])\n",
    "    prediction = clf.predict(tfidf_vector)[0]\n",
    "    probability = clf.predict_proba(tfidf_vector)[0][1]\n",
    "\n",
    "    return prediction, round(probability, 4)\n"
   ]
  },
  {
   "cell_type": "code",
   "execution_count": null,
   "id": "9b78e2d8",
   "metadata": {},
   "outputs": [],
   "source": [
    "url = \"https://chatgpt.com/c/68762bb9-04cc-800d-853f-b119f84ea6f8\"\n",
    "pred, prob = predict_url_phishing(url)\n",
    "print(pred,prob)\n",
    "\n",
    "print(f\"Prediction: {'Phishing' if pred==0 else 'Legitimate'} (Confidence: {prob})\")\n",
    "# Label 1 corresponds to a legitimate URL, label 0 to a phishing URL\n",
    "\n"
   ]
  },
  {
   "cell_type": "code",
   "execution_count": null,
   "id": "4a9c864a",
   "metadata": {},
   "outputs": [],
   "source": [
    "from lime.lime_text import LimeTextExplainer\n",
    "from sklearn.pipeline import make_pipeline\n",
    "from sklearn.base import BaseEstimator, TransformerMixin\n",
    "\n",
    "# Reuse saved components\n",
    "import joblib\n",
    "model = joblib.load(\"phishing_url_model.pkl\")\n",
    "vectorizer = joblib.load(\"tfidf_vectorizer.pkl\")\n",
    "scaler = joblib.load(\"feature_scaler.pkl\")\n",
    "\n",
    "# Custom transformer for numerical feature extraction\n",
    "class SafeURLFeatureExtractor(BaseEstimator, TransformerMixin):\n",
    "    def fit(self, X, y=None): return self\n",
    "    def transform(self, urls):\n",
    "        import numpy as np\n",
    "        return scaler.transform([\n",
    "            list(extract_safe_url_features(url).values())\n",
    "            for url in urls\n",
    "        ])\n",
    "\n",
    "# Create a pipeline\n",
    "from sklearn.pipeline import FeatureUnion\n",
    "from sklearn.feature_extraction.text import TfidfVectorizer\n",
    "\n",
    "# NOTE: reuse your saved TF-IDF and scaler here\n",
    "pipeline = make_pipeline(\n",
    "    FeatureUnion([\n",
    "        (\"tfidf\", vectorizer),\n",
    "        (\"features\", SafeURLFeatureExtractor())\n",
    "    ]),\n",
    "    model\n",
    ")\n"
   ]
  },
  {
   "cell_type": "code",
   "execution_count": null,
   "id": "545b1f0b",
   "metadata": {},
   "outputs": [],
   "source": [
    "explainer = LimeTextExplainer(class_names=[\"Legitimate\", \"Phishing\"])\n",
    "\n",
    "# Sample URL (false positive case)\n",
    "sample_url = \"http://paypal-update-login-verify.com/?id=123\"\n",
    "\n",
    "# Explain prediction\n",
    "exp = explainer.explain_instance(sample_url, pipeline.predict_proba, num_features=10)\n",
    "\n",
    "# Show explanation\n",
    "print(exp.as_list())"
   ]
  }
 ],
 "metadata": {
  "kernelspec": {
   "display_name": "Phising_detection",
   "language": "python",
   "name": "python3"
  },
  "language_info": {
   "codemirror_mode": {
    "name": "ipython",
    "version": 3
   },
   "file_extension": ".py",
   "mimetype": "text/x-python",
   "name": "python",
   "nbconvert_exporter": "python",
   "pygments_lexer": "ipython3",
   "version": "3.13.1"
  }
 },
 "nbformat": 4,
 "nbformat_minor": 5
}
