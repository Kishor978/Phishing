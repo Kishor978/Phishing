{
 "cells": [
  {
   "cell_type": "code",
   "execution_count": 6,
   "id": "ef691953",
   "metadata": {},
   "outputs": [],
   "source": [
    "import pandas as pd\n",
    "from sklearn.model_selection import train_test_split\n",
    "from sklearn.feature_extraction.text import TfidfVectorizer\n",
    "from sklearn.preprocessing import StandardScaler\n",
    "from sklearn.ensemble import RandomForestClassifier\n",
    "from sklearn.metrics import classification_report\n",
    "from scipy.sparse import hstack, csr_matrix\n",
    "import joblib"
   ]
  },
  {
   "cell_type": "code",
   "execution_count": null,
   "id": "f06dabd5",
   "metadata": {},
   "outputs": [],
   "source": [
    "df=pd.read_txt()"
   ]
  },
  {
   "cell_type": "code",
   "execution_count": 20,
   "id": "32a2d365",
   "metadata": {},
   "outputs": [
    {
     "data": {
      "text/plain": [
       "(835697, 2)"
      ]
     },
     "execution_count": 20,
     "metadata": {},
     "output_type": "execute_result"
    }
   ],
   "source": [
    "df=pd.read_json(r\"E:\\Phising_detection\\dataset\\urls.json\")\n",
    "df.shape"
   ]
  },
  {
   "cell_type": "code",
   "execution_count": 21,
   "id": "31e3a39b",
   "metadata": {},
   "outputs": [
    {
     "name": "stdout",
     "output_type": "stream",
     "text": [
      "                                                text  label\n",
      "0      http://webmail-brinkster.com/ex/?email=%20%0%      1\n",
      "1                         billsportsmaps.com/?p=1206      0\n",
      "2  www.sanelyurdu.com/language/homebank.tsbbank.c...      1\n",
      "3                          ee-billing.limited323.com      1\n",
      "4                   indiadaily.com/bolly_archive.htm      0\n",
      "Index(['text', 'label'], dtype='object')\n"
     ]
    }
   ],
   "source": [
    "# Load your dataset\n",
    "# df = pd.read_csv(r\"E:\\Phising_detection\\dataset\\PhiUSIIL_Phishing_URL_Dataset.csv\")\n",
    "df.dropna(inplace=True)\n",
    "df.drop_duplicates(inplace=True)\n",
    "# Check the first few rows\n",
    "print(df.head())\n",
    "print(df.columns)"
   ]
  },
  {
   "cell_type": "code",
   "execution_count": 22,
   "id": "853ab819",
   "metadata": {},
   "outputs": [
    {
     "data": {
      "text/plain": [
       "0         1\n",
       "1         0\n",
       "2         1\n",
       "3         1\n",
       "4         0\n",
       "         ..\n",
       "835691    0\n",
       "835692    0\n",
       "835694    0\n",
       "835695    1\n",
       "835696    1\n",
       "Name: label, Length: 821402, dtype: int64"
      ]
     },
     "execution_count": 22,
     "metadata": {},
     "output_type": "execute_result"
    }
   ],
   "source": [
    "df['label']"
   ]
  },
  {
   "cell_type": "code",
   "execution_count": 12,
   "id": "2b68d147",
   "metadata": {},
   "outputs": [
    {
     "data": {
      "text/plain": [
       "(235795, 56)"
      ]
     },
     "execution_count": 12,
     "metadata": {},
     "output_type": "execute_result"
    }
   ],
   "source": [
    "df.shape"
   ]
  },
  {
   "cell_type": "code",
   "execution_count": null,
   "id": "161c6144",
   "metadata": {},
   "outputs": [],
   "source": [
    "# selected_features = [\n",
    "#     'URLLength', 'DomainLength', 'TLDLength', 'NoOfSubDomain', 'IsDomainIP',\n",
    "#     'NoOfLettersInURL', 'NoOfDegitsInURL', 'LetterRatioInURL', 'DegitRatioInURL',\n",
    "#     'NoOfEqualsInURL', 'NoOfQMarkInURL', 'NoOfAmpersandInURL', 'SpacialCharRatioInURL',\n",
    "#     'Bank', 'Pay', 'Crypto'\n",
    "# ]"
   ]
  },
  {
   "cell_type": "code",
   "execution_count": null,
   "id": "b68f95ab",
   "metadata": {},
   "outputs": [],
   "source": [
    "# X_numeric = df[selected_features]"
   ]
  },
  {
   "cell_type": "code",
   "execution_count": null,
   "id": "c1716f1a",
   "metadata": {},
   "outputs": [
    {
     "data": {
      "text/html": [
       "<div>\n",
       "<style scoped>\n",
       "    .dataframe tbody tr th:only-of-type {\n",
       "        vertical-align: middle;\n",
       "    }\n",
       "\n",
       "    .dataframe tbody tr th {\n",
       "        vertical-align: top;\n",
       "    }\n",
       "\n",
       "    .dataframe thead th {\n",
       "        text-align: right;\n",
       "    }\n",
       "</style>\n",
       "<table border=\"1\" class=\"dataframe\">\n",
       "  <thead>\n",
       "    <tr style=\"text-align: right;\">\n",
       "      <th></th>\n",
       "      <th>URLLength</th>\n",
       "      <th>DomainLength</th>\n",
       "      <th>TLDLength</th>\n",
       "      <th>NoOfSubDomain</th>\n",
       "      <th>IsDomainIP</th>\n",
       "      <th>NoOfLettersInURL</th>\n",
       "      <th>NoOfDegitsInURL</th>\n",
       "      <th>LetterRatioInURL</th>\n",
       "      <th>DegitRatioInURL</th>\n",
       "      <th>NoOfEqualsInURL</th>\n",
       "      <th>NoOfQMarkInURL</th>\n",
       "      <th>NoOfAmpersandInURL</th>\n",
       "      <th>SpacialCharRatioInURL</th>\n",
       "      <th>Bank</th>\n",
       "      <th>Pay</th>\n",
       "      <th>Crypto</th>\n",
       "    </tr>\n",
       "  </thead>\n",
       "  <tbody>\n",
       "    <tr>\n",
       "      <th>0</th>\n",
       "      <td>31</td>\n",
       "      <td>24</td>\n",
       "      <td>3</td>\n",
       "      <td>1</td>\n",
       "      <td>0</td>\n",
       "      <td>18</td>\n",
       "      <td>0</td>\n",
       "      <td>0.581</td>\n",
       "      <td>0.000</td>\n",
       "      <td>0</td>\n",
       "      <td>0</td>\n",
       "      <td>0</td>\n",
       "      <td>0.032</td>\n",
       "      <td>1</td>\n",
       "      <td>0</td>\n",
       "      <td>0</td>\n",
       "    </tr>\n",
       "    <tr>\n",
       "      <th>1</th>\n",
       "      <td>23</td>\n",
       "      <td>16</td>\n",
       "      <td>2</td>\n",
       "      <td>1</td>\n",
       "      <td>0</td>\n",
       "      <td>9</td>\n",
       "      <td>0</td>\n",
       "      <td>0.391</td>\n",
       "      <td>0.000</td>\n",
       "      <td>0</td>\n",
       "      <td>0</td>\n",
       "      <td>0</td>\n",
       "      <td>0.087</td>\n",
       "      <td>0</td>\n",
       "      <td>0</td>\n",
       "      <td>0</td>\n",
       "    </tr>\n",
       "    <tr>\n",
       "      <th>2</th>\n",
       "      <td>29</td>\n",
       "      <td>22</td>\n",
       "      <td>2</td>\n",
       "      <td>2</td>\n",
       "      <td>0</td>\n",
       "      <td>15</td>\n",
       "      <td>0</td>\n",
       "      <td>0.517</td>\n",
       "      <td>0.000</td>\n",
       "      <td>0</td>\n",
       "      <td>0</td>\n",
       "      <td>0</td>\n",
       "      <td>0.069</td>\n",
       "      <td>0</td>\n",
       "      <td>0</td>\n",
       "      <td>0</td>\n",
       "    </tr>\n",
       "    <tr>\n",
       "      <th>3</th>\n",
       "      <td>26</td>\n",
       "      <td>19</td>\n",
       "      <td>3</td>\n",
       "      <td>1</td>\n",
       "      <td>0</td>\n",
       "      <td>13</td>\n",
       "      <td>0</td>\n",
       "      <td>0.500</td>\n",
       "      <td>0.000</td>\n",
       "      <td>0</td>\n",
       "      <td>0</td>\n",
       "      <td>0</td>\n",
       "      <td>0.038</td>\n",
       "      <td>0</td>\n",
       "      <td>1</td>\n",
       "      <td>1</td>\n",
       "    </tr>\n",
       "    <tr>\n",
       "      <th>4</th>\n",
       "      <td>33</td>\n",
       "      <td>26</td>\n",
       "      <td>3</td>\n",
       "      <td>1</td>\n",
       "      <td>0</td>\n",
       "      <td>20</td>\n",
       "      <td>0</td>\n",
       "      <td>0.606</td>\n",
       "      <td>0.000</td>\n",
       "      <td>0</td>\n",
       "      <td>0</td>\n",
       "      <td>0</td>\n",
       "      <td>0.030</td>\n",
       "      <td>1</td>\n",
       "      <td>1</td>\n",
       "      <td>0</td>\n",
       "    </tr>\n",
       "    <tr>\n",
       "      <th>...</th>\n",
       "      <td>...</td>\n",
       "      <td>...</td>\n",
       "      <td>...</td>\n",
       "      <td>...</td>\n",
       "      <td>...</td>\n",
       "      <td>...</td>\n",
       "      <td>...</td>\n",
       "      <td>...</td>\n",
       "      <td>...</td>\n",
       "      <td>...</td>\n",
       "      <td>...</td>\n",
       "      <td>...</td>\n",
       "      <td>...</td>\n",
       "      <td>...</td>\n",
       "      <td>...</td>\n",
       "      <td>...</td>\n",
       "    </tr>\n",
       "    <tr>\n",
       "      <th>235790</th>\n",
       "      <td>29</td>\n",
       "      <td>22</td>\n",
       "      <td>3</td>\n",
       "      <td>1</td>\n",
       "      <td>0</td>\n",
       "      <td>16</td>\n",
       "      <td>0</td>\n",
       "      <td>0.552</td>\n",
       "      <td>0.000</td>\n",
       "      <td>0</td>\n",
       "      <td>0</td>\n",
       "      <td>0</td>\n",
       "      <td>0.034</td>\n",
       "      <td>0</td>\n",
       "      <td>1</td>\n",
       "      <td>0</td>\n",
       "    </tr>\n",
       "    <tr>\n",
       "      <th>235791</th>\n",
       "      <td>28</td>\n",
       "      <td>21</td>\n",
       "      <td>2</td>\n",
       "      <td>2</td>\n",
       "      <td>0</td>\n",
       "      <td>14</td>\n",
       "      <td>0</td>\n",
       "      <td>0.500</td>\n",
       "      <td>0.000</td>\n",
       "      <td>0</td>\n",
       "      <td>0</td>\n",
       "      <td>0</td>\n",
       "      <td>0.071</td>\n",
       "      <td>0</td>\n",
       "      <td>1</td>\n",
       "      <td>0</td>\n",
       "    </tr>\n",
       "    <tr>\n",
       "      <th>235792</th>\n",
       "      <td>30</td>\n",
       "      <td>23</td>\n",
       "      <td>2</td>\n",
       "      <td>1</td>\n",
       "      <td>0</td>\n",
       "      <td>17</td>\n",
       "      <td>0</td>\n",
       "      <td>0.567</td>\n",
       "      <td>0.000</td>\n",
       "      <td>0</td>\n",
       "      <td>0</td>\n",
       "      <td>0</td>\n",
       "      <td>0.033</td>\n",
       "      <td>0</td>\n",
       "      <td>0</td>\n",
       "      <td>0</td>\n",
       "    </tr>\n",
       "    <tr>\n",
       "      <th>235793</th>\n",
       "      <td>55</td>\n",
       "      <td>47</td>\n",
       "      <td>3</td>\n",
       "      <td>2</td>\n",
       "      <td>0</td>\n",
       "      <td>39</td>\n",
       "      <td>3</td>\n",
       "      <td>0.709</td>\n",
       "      <td>0.055</td>\n",
       "      <td>0</td>\n",
       "      <td>0</td>\n",
       "      <td>0</td>\n",
       "      <td>0.091</td>\n",
       "      <td>0</td>\n",
       "      <td>0</td>\n",
       "      <td>0</td>\n",
       "    </tr>\n",
       "    <tr>\n",
       "      <th>235794</th>\n",
       "      <td>33</td>\n",
       "      <td>26</td>\n",
       "      <td>3</td>\n",
       "      <td>1</td>\n",
       "      <td>0</td>\n",
       "      <td>20</td>\n",
       "      <td>0</td>\n",
       "      <td>0.606</td>\n",
       "      <td>0.000</td>\n",
       "      <td>0</td>\n",
       "      <td>0</td>\n",
       "      <td>0</td>\n",
       "      <td>0.030</td>\n",
       "      <td>0</td>\n",
       "      <td>0</td>\n",
       "      <td>0</td>\n",
       "    </tr>\n",
       "  </tbody>\n",
       "</table>\n",
       "<p>235795 rows × 16 columns</p>\n",
       "</div>"
      ],
      "text/plain": [
       "        URLLength  DomainLength  TLDLength  NoOfSubDomain  IsDomainIP  \\\n",
       "0              31            24          3              1           0   \n",
       "1              23            16          2              1           0   \n",
       "2              29            22          2              2           0   \n",
       "3              26            19          3              1           0   \n",
       "4              33            26          3              1           0   \n",
       "...           ...           ...        ...            ...         ...   \n",
       "235790         29            22          3              1           0   \n",
       "235791         28            21          2              2           0   \n",
       "235792         30            23          2              1           0   \n",
       "235793         55            47          3              2           0   \n",
       "235794         33            26          3              1           0   \n",
       "\n",
       "        NoOfLettersInURL  NoOfDegitsInURL  LetterRatioInURL  DegitRatioInURL  \\\n",
       "0                     18                0             0.581            0.000   \n",
       "1                      9                0             0.391            0.000   \n",
       "2                     15                0             0.517            0.000   \n",
       "3                     13                0             0.500            0.000   \n",
       "4                     20                0             0.606            0.000   \n",
       "...                  ...              ...               ...              ...   \n",
       "235790                16                0             0.552            0.000   \n",
       "235791                14                0             0.500            0.000   \n",
       "235792                17                0             0.567            0.000   \n",
       "235793                39                3             0.709            0.055   \n",
       "235794                20                0             0.606            0.000   \n",
       "\n",
       "        NoOfEqualsInURL  NoOfQMarkInURL  NoOfAmpersandInURL  \\\n",
       "0                     0               0                   0   \n",
       "1                     0               0                   0   \n",
       "2                     0               0                   0   \n",
       "3                     0               0                   0   \n",
       "4                     0               0                   0   \n",
       "...                 ...             ...                 ...   \n",
       "235790                0               0                   0   \n",
       "235791                0               0                   0   \n",
       "235792                0               0                   0   \n",
       "235793                0               0                   0   \n",
       "235794                0               0                   0   \n",
       "\n",
       "        SpacialCharRatioInURL  Bank  Pay  Crypto  \n",
       "0                       0.032     1    0       0  \n",
       "1                       0.087     0    0       0  \n",
       "2                       0.069     0    0       0  \n",
       "3                       0.038     0    1       1  \n",
       "4                       0.030     1    1       0  \n",
       "...                       ...   ...  ...     ...  \n",
       "235790                  0.034     0    1       0  \n",
       "235791                  0.071     0    1       0  \n",
       "235792                  0.033     0    0       0  \n",
       "235793                  0.091     0    0       0  \n",
       "235794                  0.030     0    0       0  \n",
       "\n",
       "[235795 rows x 16 columns]"
      ]
     },
     "execution_count": 7,
     "metadata": {},
     "output_type": "execute_result"
    }
   ],
   "source": [
    "# X_numeric"
   ]
  },
  {
   "cell_type": "code",
   "execution_count": null,
   "id": "ad5576e4",
   "metadata": {},
   "outputs": [
    {
     "ename": "NameError",
     "evalue": "name 'X_numeric' is not defined",
     "output_type": "error",
     "traceback": [
      "\u001b[31m---------------------------------------------------------------------------\u001b[39m",
      "\u001b[31mNameError\u001b[39m                                 Traceback (most recent call last)",
      "\u001b[36mCell\u001b[39m\u001b[36m \u001b[39m\u001b[32mIn[23]\u001b[39m\u001b[32m, line 2\u001b[39m\n\u001b[32m      1\u001b[39m scaler = StandardScaler()\n\u001b[32m----> \u001b[39m\u001b[32m2\u001b[39m X_numeric_scaled = scaler.fit_transform(\u001b[43mX_numeric\u001b[49m)\n",
      "\u001b[31mNameError\u001b[39m: name 'X_numeric' is not defined"
     ]
    }
   ],
   "source": [
    "# scaler = StandardScaler()\n",
    "# X_numeric_scaled = scaler.fit_transform(X_numeric)"
   ]
  },
  {
   "cell_type": "code",
   "execution_count": 24,
   "id": "da3f1910",
   "metadata": {},
   "outputs": [],
   "source": [
    "# Prepare TF-IDF from raw URL string\n",
    "vectorizer = TfidfVectorizer(analyzer='char', ngram_range=(3, 6), max_features=3000)\n",
    "X_tfidf = vectorizer.fit_transform(df['text'].astype(str))"
   ]
  },
  {
   "cell_type": "code",
   "execution_count": 25,
   "id": "ed5b95b2",
   "metadata": {},
   "outputs": [
    {
     "data": {
      "text/plain": [
       "0         1\n",
       "1         0\n",
       "2         1\n",
       "3         1\n",
       "4         0\n",
       "         ..\n",
       "835691    0\n",
       "835692    0\n",
       "835694    0\n",
       "835695    1\n",
       "835696    1\n",
       "Name: label, Length: 821402, dtype: int64"
      ]
     },
     "execution_count": 25,
     "metadata": {},
     "output_type": "execute_result"
    }
   ],
   "source": [
    "df['label']"
   ]
  },
  {
   "cell_type": "code",
   "execution_count": 28,
   "id": "944feb0f",
   "metadata": {},
   "outputs": [],
   "source": [
    "# Combine both inputs\n",
    "# X_combined = hstack([X_tfidf, csr_matrix(X_numeric_scaled)])\n",
    "y = df['label']\n",
    "\n",
    "# Train/test split\n",
    "X_train, X_test, y_train, y_test = train_test_split(\n",
    "    X_tfidf, y, test_size=0.2, stratify=y, random_state=42\n",
    ")"
   ]
  },
  {
   "cell_type": "code",
   "execution_count": 29,
   "id": "6e905af7",
   "metadata": {},
   "outputs": [
    {
     "name": "stdout",
     "output_type": "stream",
     "text": [
      "              precision    recall  f1-score   support\n",
      "\n",
      "           0       0.96      0.97      0.96     87043\n",
      "           1       0.96      0.95      0.96     77238\n",
      "\n",
      "    accuracy                           0.96    164281\n",
      "   macro avg       0.96      0.96      0.96    164281\n",
      "weighted avg       0.96      0.96      0.96    164281\n",
      "\n"
     ]
    }
   ],
   "source": [
    "# Train model\n",
    "clf = RandomForestClassifier(n_estimators=100, random_state=42)\n",
    "clf.fit(X_train, y_train)\n",
    "\n",
    "# Evaluate\n",
    "y_pred = clf.predict(X_test)\n",
    "print(classification_report(y_test, y_pred))"
   ]
  },
  {
   "cell_type": "code",
   "execution_count": 30,
   "id": "cc050b8c",
   "metadata": {},
   "outputs": [
    {
     "data": {
      "text/plain": [
       "['vectorizer.pkl']"
      ]
     },
     "execution_count": 30,
     "metadata": {},
     "output_type": "execute_result"
    }
   ],
   "source": [
    "\n",
    "\n",
    "# Save Random Forest model\n",
    "joblib.dump(clf, \"url_model.pkl\")\n",
    "\n",
    "# Save TF-IDF vectorizer\n",
    "joblib.dump(vectorizer, \"vectorizer.pkl\")\n",
    "\n",
    "# Save feature scaler\n",
    "# joblib.dump(scaler, \"feature_scaler.pkl\")\n"
   ]
  },
  {
   "cell_type": "code",
   "execution_count": 7,
   "id": "315367a8",
   "metadata": {},
   "outputs": [],
   "source": [
    "import tldextract\n",
    "import ipaddress\n",
    "\n",
    "def extract_safe_url_features(url):\n",
    "    ext = tldextract.extract(url)\n",
    "    domain = ext.domain + '.' + ext.suffix\n",
    "    subdomain = ext.subdomain\n",
    "    try:\n",
    "        ipaddress.ip_address(domain)\n",
    "        is_domain_ip = 1\n",
    "    except ValueError:\n",
    "        is_domain_ip = 0\n",
    "\n",
    "    letters = sum(c.isalpha() for c in url)\n",
    "    digits = sum(c.isdigit() for c in url)\n",
    "    specials = sum(not c.isalnum() for c in url)\n",
    "\n",
    "    return {\n",
    "        \"URLLength\": len(url),\n",
    "        \"DomainLength\": len(domain),\n",
    "        \"TLDLength\": len(ext.suffix),\n",
    "        \"NoOfSubDomain\": subdomain.count('.') + (1 if subdomain else 0),\n",
    "        \"IsDomainIP\": is_domain_ip,\n",
    "        \"NoOfLettersInURL\": letters,\n",
    "        \"NoOfDegitsInURL\": digits,\n",
    "        \"LetterRatioInURL\": round(letters / len(url), 3),\n",
    "        \"DegitRatioInURL\": round(digits / len(url), 3),\n",
    "        \"NoOfEqualsInURL\": url.count('='),\n",
    "        \"NoOfQMarkInURL\": url.count('?'),\n",
    "        \"NoOfAmpersandInURL\": url.count('&'),\n",
    "        \"SpacialCharRatioInURL\": round(specials / len(url), 3),\n",
    "        \"Bank\": int(\"bank\" in url.lower()),\n",
    "        \"Pay\": int(\"pay\" in url.lower()),\n",
    "        \"Crypto\": int(\"crypto\" in url.lower())\n",
    "    }\n"
   ]
  },
  {
   "cell_type": "code",
   "execution_count": 33,
   "id": "a1fa8425",
   "metadata": {},
   "outputs": [],
   "source": [
    "import numpy as np\n",
    "from scipy.sparse import hstack\n",
    "\n",
    "def predict_url_phishing(url):\n",
    "    # Load saved objects\n",
    "    clf = joblib.load(\"url_model.pkl\")\n",
    "    vectorizer = joblib.load(\"vectorizer.pkl\")\n",
    "    # scaler = joblib.load(\"feature_scaler.pkl\")\n",
    "\n",
    "    # Extract features\n",
    "    # features = extract_safe_url_features(url)\n",
    "    # print(features)\n",
    "    # # numeric = np.array([list(features.values())])\n",
    "    # numeric_scaled = scaler.transform(numeric)\n",
    "\n",
    "    # TF-IDF transform\n",
    "    tfidf_vector = vectorizer.transform([url])\n",
    "\n",
    "    # Combine and predict\n",
    "    # X_combined = hstack([tfidf_vector, numeric_scaled])\n",
    "    prediction = clf.predict(tfidf_vector)[0]\n",
    "    probability = clf.predict_proba(tfidf_vector)[0][1]\n",
    "\n",
    "    return prediction, round(probability, 4)\n"
   ]
  },
  {
   "cell_type": "code",
   "execution_count": 45,
   "id": "9b78e2d8",
   "metadata": {},
   "outputs": [
    {
     "name": "stdout",
     "output_type": "stream",
     "text": [
      "1 0.92\n",
      "Prediction: Legitimate (Confidence: 0.92)\n"
     ]
    }
   ],
   "source": [
    "url = \"https://chatgpt.com/c/68762bb9-04cc-800d-853f-b119f84ea6f8\"\n",
    "pred, prob = predict_url_phishing(url)\n",
    "print(pred,prob)\n",
    "\n",
    "print(f\"Prediction: {'Phishing' if pred==0 else 'Legitimate'} (Confidence: {prob})\")\n",
    "# Label 1 corresponds to a legitimate URL, label 0 to a phishing URL\n",
    "\n"
   ]
  },
  {
   "cell_type": "code",
   "execution_count": 14,
   "id": "4a9c864a",
   "metadata": {},
   "outputs": [],
   "source": [
    "from lime.lime_text import LimeTextExplainer\n",
    "from sklearn.pipeline import make_pipeline\n",
    "from sklearn.base import BaseEstimator, TransformerMixin\n",
    "\n",
    "# Reuse saved components\n",
    "import joblib\n",
    "model = joblib.load(\"phishing_url_model.pkl\")\n",
    "vectorizer = joblib.load(\"tfidf_vectorizer.pkl\")\n",
    "scaler = joblib.load(\"feature_scaler.pkl\")\n",
    "\n",
    "# Custom transformer for numerical feature extraction\n",
    "class SafeURLFeatureExtractor(BaseEstimator, TransformerMixin):\n",
    "    def fit(self, X, y=None): return self\n",
    "    def transform(self, urls):\n",
    "        import numpy as np\n",
    "        return scaler.transform([\n",
    "            list(extract_safe_url_features(url).values())\n",
    "            for url in urls\n",
    "        ])\n",
    "\n",
    "# Create a pipeline\n",
    "from sklearn.pipeline import FeatureUnion\n",
    "from sklearn.feature_extraction.text import TfidfVectorizer\n",
    "\n",
    "# NOTE: reuse your saved TF-IDF and scaler here\n",
    "pipeline = make_pipeline(\n",
    "    FeatureUnion([\n",
    "        (\"tfidf\", vectorizer),\n",
    "        (\"features\", SafeURLFeatureExtractor())\n",
    "    ]),\n",
    "    model\n",
    ")\n"
   ]
  },
  {
   "cell_type": "code",
   "execution_count": 18,
   "id": "545b1f0b",
   "metadata": {},
   "outputs": [
    {
     "name": "stdout",
     "output_type": "stream",
     "text": [
      "[(np.str_('http'), 0.0), (np.str_('paypal'), 0.0), (np.str_('update'), 0.0), (np.str_('login'), 0.0), (np.str_('verify'), 0.0), (np.str_('com'), 0.0), (np.str_('id'), 0.0), (np.str_('123'), 0.0)]\n"
     ]
    },
    {
     "name": "stderr",
     "output_type": "stream",
     "text": [
      "e:\\Phising_detection\\.venv\\Lib\\site-packages\\sklearn\\utils\\validation.py:2749: UserWarning: X does not have valid feature names, but StandardScaler was fitted with feature names\n",
      "  warnings.warn(\n"
     ]
    }
   ],
   "source": [
    "explainer = LimeTextExplainer(class_names=[\"Legitimate\", \"Phishing\"])\n",
    "\n",
    "# Sample URL (false positive case)\n",
    "sample_url = \"http://paypal-update-login-verify.com/?id=123\"\n",
    "\n",
    "# Explain prediction\n",
    "exp = explainer.explain_instance(sample_url, pipeline.predict_proba, num_features=10)\n",
    "\n",
    "# Show explanation\n",
    "print(exp.as_list())"
   ]
  },
  {
   "cell_type": "code",
   "execution_count": null,
   "id": "76d4fd07",
   "metadata": {},
   "outputs": [],
   "source": []
  }
 ],
 "metadata": {
  "kernelspec": {
   "display_name": "Phising_detection",
   "language": "python",
   "name": "python3"
  },
  "language_info": {
   "codemirror_mode": {
    "name": "ipython",
    "version": 3
   },
   "file_extension": ".py",
   "mimetype": "text/x-python",
   "name": "python",
   "nbconvert_exporter": "python",
   "pygments_lexer": "ipython3",
   "version": "3.13.1"
  }
 },
 "nbformat": 4,
 "nbformat_minor": 5
}
