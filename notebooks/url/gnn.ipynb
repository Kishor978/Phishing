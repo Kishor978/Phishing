{
 "cells": [
  {
   "cell_type": "code",
   "execution_count": null,
   "id": "f7422661",
   "metadata": {},
   "outputs": [],
   "source": [
    "import torch\n",
    "import torch.nn as nn\n",
    "from torch.utils.data import random_split\n",
    "from torch_geometric.data import Data, InMemoryDataset\n",
    "from torch_geometric.loader import DataLoader\n",
    "from torch_geometric.nn import GCNConv, global_mean_pool\n",
    "import pandas as pd\n",
    "import json\n",
    "from urllib.parse import urlparse, parse_qs\n",
    "from collections import Counter\n",
    "from sklearn.metrics import f1_score, accuracy_score, confusion_matrix, roc_curve, auc\n",
    "from tqdm import tqdm\n",
    "import matplotlib.pyplot as plt\n",
    "import seaborn as sns"
   ]
  },
  {
   "cell_type": "code",
   "execution_count": 2,
   "id": "81a41a1f",
   "metadata": {},
   "outputs": [],
   "source": [
    "# -------------------- Tokenization and Vocabulary --------------------\n",
    "def tokenize_url(url):\n",
    "    parsed = urlparse(url)\n",
    "    tokens = []\n",
    "    if parsed.scheme:\n",
    "        tokens.append(parsed.scheme)\n",
    "    if parsed.hostname:\n",
    "        tokens += parsed.hostname.split('.')\n",
    "    if parsed.path:\n",
    "        tokens += parsed.path.strip(\"/\").split(\"/\")\n",
    "    if parsed.query:\n",
    "        tokens += list(parse_qs(parsed.query).keys())\n",
    "    return tokens\n",
    "\n",
    "def build_vocab(df, max_vocab_size=5000):\n",
    "    token_counts = Counter()\n",
    "    for url in df['text']:\n",
    "        tokens = tokenize_url(url)\n",
    "        token_counts.update(tokens)\n",
    "    vocab = {'<PAD>': 0, '<UNK>': 1}\n",
    "    for i, (token, _) in enumerate(token_counts.most_common(max_vocab_size), start=2):\n",
    "        vocab[token] = i\n",
    "    return vocab"
   ]
  },
  {
   "cell_type": "code",
   "execution_count": 3,
   "id": "15694b90",
   "metadata": {},
   "outputs": [],
   "source": [
    "# -------------------- URL to Graph Conversion --------------------\n",
    "def url_to_graph(url, label, vocab, max_nodes=30):\n",
    "    tokens = tokenize_url(url)[:max_nodes]\n",
    "    node_ids = [vocab.get(tok, vocab['<UNK>']) for tok in tokens]\n",
    "    num_nodes = len(node_ids)\n",
    "    if num_nodes < 2:\n",
    "        return None\n",
    "    edge_index = torch.tensor([[i, i + 1] for i in range(num_nodes - 1)], dtype=torch.long).t()\n",
    "    x = torch.tensor(node_ids, dtype=torch.long).unsqueeze(1)\n",
    "    return Data(x=x, edge_index=edge_index, y=torch.tensor([label], dtype=torch.float))\n",
    "# -------------------- PyG Dataset --------------------\n",
    "class URLGraphDataset(InMemoryDataset):\n",
    "    def __init__(self, df, vocab):\n",
    "        self.df = df.reset_index(drop=True)\n",
    "        self.vocab = vocab\n",
    "        super().__init__('.')\n",
    "        data_list = [url_to_graph(url, label, vocab) for url, label in zip(df['text'], df['label']) if url_to_graph(url, label, vocab)]\n",
    "        self.data, self.slices = self.collate(data_list)"
   ]
  },
  {
   "cell_type": "code",
   "execution_count": 4,
   "id": "59239162",
   "metadata": {},
   "outputs": [],
   "source": [
    "# -------------------- GCN Model --------------------\n",
    "class URLGNN(nn.Module):\n",
    "    def __init__(self, vocab_size, embed_dim=64):\n",
    "        super().__init__()\n",
    "        self.embedding = nn.Embedding(vocab_size, embed_dim)\n",
    "        self.conv1 = GCNConv(embed_dim, 128)\n",
    "        self.conv2 = GCNConv(128, 64)\n",
    "        self.dropout = nn.Dropout(0.3)\n",
    "        self.fc = nn.Linear(64, 1)\n",
    "\n",
    "    def forward(self, data):\n",
    "        x = self.embedding(data.x.squeeze(1))\n",
    "        x = torch.relu(self.conv1(x, data.edge_index))\n",
    "        x = torch.relu(self.conv2(x, data.edge_index))\n",
    "        x = global_mean_pool(x, data.batch)\n",
    "        x = self.dropout(x)\n",
    "        return torch.sigmoid(self.fc(x)).squeeze()\n"
   ]
  },
  {
   "cell_type": "code",
   "execution_count": 5,
   "id": "f0baaae7",
   "metadata": {},
   "outputs": [],
   "source": [
    "# -------------------- Train Function with TQDM + EarlyStopping --------------------\n",
    "def train_model(model, train_loader, val_loader, optimizer, criterion, scheduler=None, epochs=30, patience=5):\n",
    "    best_model_wts = model.state_dict()\n",
    "    best_val_f1 = 0\n",
    "    patience_counter = 0\n",
    "    history = {'train_loss': [], 'val_loss': [], 'train_acc': [], 'val_acc': [], 'val_preds': [], 'val_probs': [], 'val_labels': []}\n",
    "\n",
    "    for epoch in range(epochs):\n",
    "        model.train()\n",
    "        total_loss, correct, total = 0, 0, 0\n",
    "        for batch in tqdm(train_loader, desc=f\"Epoch {epoch+1} [Train]\"):\n",
    "            batch = batch.to(device)\n",
    "            optimizer.zero_grad()\n",
    "            out = model(batch)\n",
    "            loss = criterion(out, batch.y)\n",
    "            loss.backward()\n",
    "            optimizer.step()\n",
    "            total_loss += loss.item() * batch.num_graphs\n",
    "            preds = (out > 0.5).int()\n",
    "            correct += (preds == batch.y.int()).sum().item()\n",
    "            total += batch.num_graphs\n",
    "        train_loss = total_loss / total\n",
    "        train_acc = correct / total\n",
    "        history['train_loss'].append(train_loss)\n",
    "        history['train_acc'].append(train_acc)\n",
    "\n",
    "        # Validation\n",
    "        model.eval()\n",
    "        val_loss, val_preds, val_probs, val_labels = 0, [], [], []\n",
    "        with torch.no_grad():\n",
    "            for batch in tqdm(val_loader, desc=f\"Epoch {epoch+1} [Val]\"):\n",
    "                batch = batch.to(device)\n",
    "                out = model(batch)\n",
    "                loss = criterion(out, batch.y)\n",
    "                val_loss += loss.item() * batch.num_graphs\n",
    "                probs = out.cpu().numpy().tolist()\n",
    "                preds = (out > 0.5).int().cpu().numpy().tolist()\n",
    "                labels = batch.y.int().cpu().numpy().tolist()\n",
    "                val_probs += probs\n",
    "                val_preds += preds\n",
    "                val_labels += labels\n",
    "        val_loss /= len(val_loader.dataset)\n",
    "        val_acc = accuracy_score(val_labels, val_preds)\n",
    "        val_f1 = f1_score(val_labels, val_preds)\n",
    "\n",
    "        history['val_loss'].append(val_loss)\n",
    "        history['val_acc'].append(val_acc)\n",
    "        history['val_preds'] = val_preds\n",
    "        history['val_probs'] = val_probs\n",
    "        history['val_labels'] = val_labels\n",
    "\n",
    "        print(f\"\\nEpoch {epoch+1}: Train Loss={train_loss:.4f}, Acc={train_acc:.4f} | Val Loss={val_loss:.4f}, Acc={val_acc:.4f}, F1={val_f1:.4f}\")\n",
    "\n",
    "        if scheduler:\n",
    "            scheduler.step(val_f1)\n",
    "\n",
    "        if val_f1 > best_val_f1:\n",
    "            best_val_f1 = val_f1\n",
    "            best_model_wts = model.state_dict()\n",
    "            patience_counter = 0\n",
    "            torch.save(model.state_dict(), \"best_gnn_model.pt\")\n",
    "        else:\n",
    "            patience_counter += 1\n",
    "            if patience_counter >= patience:\n",
    "                print(\"\\n⛔ Early stopping triggered.\")\n",
    "                break\n",
    "\n",
    "    model.load_state_dict(best_model_wts)\n",
    "    return model, history\n"
   ]
  },
  {
   "cell_type": "code",
   "execution_count": 6,
   "id": "0649d94c",
   "metadata": {},
   "outputs": [],
   "source": [
    "# -------------------- Plotting Functions --------------------\n",
    "def plot_metrics(history):\n",
    "    plt.figure(figsize=(12, 5))\n",
    "    plt.subplot(1, 2, 1)\n",
    "    plt.plot(history['train_loss'], label='Train Loss')\n",
    "    plt.plot(history['val_loss'], label='Val Loss')\n",
    "    plt.title('Loss Over Epochs')\n",
    "    plt.xlabel('Epoch')\n",
    "    plt.ylabel('Loss')\n",
    "    plt.legend()\n",
    "    plt.subplot(1, 2, 2)\n",
    "    plt.plot(history['train_acc'], label='Train Acc')\n",
    "    plt.plot(history['val_acc'], label='Val Acc')\n",
    "    plt.title('Accuracy Over Epochs')\n",
    "    plt.xlabel('Epoch')\n",
    "    plt.ylabel('Accuracy')\n",
    "    plt.legend()\n",
    "    plt.tight_layout()\n",
    "    plt.show()\n",
    "\n",
    "def plot_confusion_matrix(y_true, y_pred):\n",
    "    cm = confusion_matrix(y_true, y_pred)\n",
    "    sns.heatmap(cm, annot=True, fmt='d', cmap='Blues', xticklabels=['Legit', 'Phish'], yticklabels=['Legit', 'Phish'])\n",
    "    plt.xlabel(\"Predicted\")\n",
    "    plt.ylabel(\"Actual\")\n",
    "    plt.title(\"Confusion Matrix\")\n",
    "    plt.tight_layout()\n",
    "    plt.show()\n",
    "\n",
    "def plot_roc_curve(y_true, y_probs):\n",
    "    fpr, tpr, _ = roc_curve(y_true, y_probs)\n",
    "    roc_auc = auc(fpr, tpr)\n",
    "    plt.plot(fpr, tpr, label=f\"AUC = {roc_auc:.2f}\")\n",
    "    plt.plot([0, 1], [0, 1], linestyle='--', color='gray')\n",
    "    plt.xlabel(\"False Positive Rate\")\n",
    "    plt.ylabel(\"True Positive Rate\")\n",
    "    plt.title(\"ROC Curve\")\n",
    "    plt.legend()\n",
    "    plt.tight_layout()\n",
    "    plt.show()"
   ]
  },
  {
   "cell_type": "code",
   "execution_count": 9,
   "id": "d88b15da",
   "metadata": {},
   "outputs": [
    {
     "name": "stdout",
     "output_type": "stream",
     "text": [
      "Training samples: 668557, Validation samples: 167140\n",
      "Vocabulary size: 5002\n"
     ]
    },
    {
     "name": "stderr",
     "output_type": "stream",
     "text": [
      "Epoch 1 [Train]: 100%|██████████| 8517/8517 [06:05<00:00, 23.32it/s]\n",
      "Epoch 1 [Val]: 100%|██████████| 2133/2133 [01:17<00:00, 27.57it/s]\n"
     ]
    },
    {
     "name": "stdout",
     "output_type": "stream",
     "text": [
      "\n",
      "Epoch 1: Train Loss=0.2265, Acc=0.9038 | Val Loss=0.1888, Acc=0.9197, F1=0.8958\n"
     ]
    },
    {
     "name": "stderr",
     "output_type": "stream",
     "text": [
      "Epoch 2 [Train]: 100%|██████████| 8517/8517 [03:05<00:00, 45.80it/s]\n",
      "Epoch 2 [Val]: 100%|██████████| 2133/2133 [00:31<00:00, 68.26it/s]\n"
     ]
    },
    {
     "name": "stdout",
     "output_type": "stream",
     "text": [
      "\n",
      "Epoch 2: Train Loss=0.1818, Acc=0.9249 | Val Loss=0.1768, Acc=0.9285, F1=0.9094\n"
     ]
    },
    {
     "name": "stderr",
     "output_type": "stream",
     "text": [
      "Epoch 3 [Train]: 100%|██████████| 8517/8517 [03:18<00:00, 42.90it/s]\n",
      "Epoch 3 [Val]: 100%|██████████| 2133/2133 [00:32<00:00, 65.38it/s]\n"
     ]
    },
    {
     "name": "stdout",
     "output_type": "stream",
     "text": [
      "\n",
      "Epoch 3: Train Loss=0.1744, Acc=0.9281 | Val Loss=0.1719, Acc=0.9295, F1=0.9106\n"
     ]
    },
    {
     "name": "stderr",
     "output_type": "stream",
     "text": [
      "Epoch 4 [Train]: 100%|██████████| 8517/8517 [03:18<00:00, 42.89it/s]\n",
      "Epoch 4 [Val]: 100%|██████████| 2133/2133 [00:33<00:00, 64.64it/s]\n"
     ]
    },
    {
     "name": "stdout",
     "output_type": "stream",
     "text": [
      "\n",
      "Epoch 4: Train Loss=0.1697, Acc=0.9298 | Val Loss=0.1707, Acc=0.9295, F1=0.9098\n"
     ]
    },
    {
     "name": "stderr",
     "output_type": "stream",
     "text": [
      "Epoch 5 [Train]: 100%|██████████| 8517/8517 [03:25<00:00, 41.44it/s]\n",
      "Epoch 5 [Val]: 100%|██████████| 2133/2133 [00:34<00:00, 61.42it/s]\n"
     ]
    },
    {
     "name": "stdout",
     "output_type": "stream",
     "text": [
      "\n",
      "Epoch 5: Train Loss=0.1668, Acc=0.9308 | Val Loss=0.1684, Acc=0.9309, F1=0.9122\n"
     ]
    },
    {
     "name": "stderr",
     "output_type": "stream",
     "text": [
      "Epoch 6 [Train]: 100%|██████████| 8517/8517 [03:25<00:00, 41.43it/s]\n",
      "Epoch 6 [Val]: 100%|██████████| 2133/2133 [00:36<00:00, 59.23it/s]\n"
     ]
    },
    {
     "name": "stdout",
     "output_type": "stream",
     "text": [
      "\n",
      "Epoch 6: Train Loss=0.1641, Acc=0.9317 | Val Loss=0.1705, Acc=0.9312, F1=0.9125\n"
     ]
    },
    {
     "name": "stderr",
     "output_type": "stream",
     "text": [
      "Epoch 7 [Train]: 100%|██████████| 8517/8517 [03:32<00:00, 40.06it/s]\n",
      "Epoch 7 [Val]: 100%|██████████| 2133/2133 [00:35<00:00, 60.13it/s]\n"
     ]
    },
    {
     "name": "stdout",
     "output_type": "stream",
     "text": [
      "\n",
      "Epoch 7: Train Loss=0.1625, Acc=0.9326 | Val Loss=0.1682, Acc=0.9314, F1=0.9128\n"
     ]
    },
    {
     "name": "stderr",
     "output_type": "stream",
     "text": [
      "Epoch 8 [Train]: 100%|██████████| 8517/8517 [03:32<00:00, 40.16it/s]\n",
      "Epoch 8 [Val]: 100%|██████████| 2133/2133 [00:35<00:00, 60.52it/s]\n"
     ]
    },
    {
     "name": "stdout",
     "output_type": "stream",
     "text": [
      "\n",
      "Epoch 8: Train Loss=0.1611, Acc=0.9333 | Val Loss=0.1680, Acc=0.9316, F1=0.9131\n"
     ]
    },
    {
     "name": "stderr",
     "output_type": "stream",
     "text": [
      "Epoch 9 [Train]: 100%|██████████| 8517/8517 [03:32<00:00, 40.07it/s]\n",
      "Epoch 9 [Val]: 100%|██████████| 2133/2133 [00:35<00:00, 59.52it/s]\n"
     ]
    },
    {
     "name": "stdout",
     "output_type": "stream",
     "text": [
      "\n",
      "Epoch 9: Train Loss=0.1593, Acc=0.9338 | Val Loss=0.1718, Acc=0.9318, F1=0.9133\n"
     ]
    },
    {
     "name": "stderr",
     "output_type": "stream",
     "text": [
      "Epoch 10 [Train]: 100%|██████████| 8517/8517 [03:32<00:00, 40.14it/s]\n",
      "Epoch 10 [Val]: 100%|██████████| 2133/2133 [00:36<00:00, 59.02it/s]\n"
     ]
    },
    {
     "name": "stdout",
     "output_type": "stream",
     "text": [
      "\n",
      "Epoch 10: Train Loss=0.1589, Acc=0.9343 | Val Loss=0.1729, Acc=0.9324, F1=0.9146\n"
     ]
    },
    {
     "name": "stderr",
     "output_type": "stream",
     "text": [
      "Epoch 11 [Train]: 100%|██████████| 8517/8517 [03:35<00:00, 39.55it/s]\n",
      "Epoch 11 [Val]: 100%|██████████| 2133/2133 [00:35<00:00, 59.70it/s]\n"
     ]
    },
    {
     "name": "stdout",
     "output_type": "stream",
     "text": [
      "\n",
      "Epoch 11: Train Loss=0.1578, Acc=0.9347 | Val Loss=0.1732, Acc=0.9326, F1=0.9146\n"
     ]
    },
    {
     "name": "stderr",
     "output_type": "stream",
     "text": [
      "Epoch 12 [Train]: 100%|██████████| 8517/8517 [03:34<00:00, 39.68it/s]\n",
      "Epoch 12 [Val]: 100%|██████████| 2133/2133 [00:34<00:00, 62.26it/s]\n"
     ]
    },
    {
     "name": "stdout",
     "output_type": "stream",
     "text": [
      "\n",
      "Epoch 12: Train Loss=0.1569, Acc=0.9351 | Val Loss=0.1711, Acc=0.9327, F1=0.9146\n"
     ]
    },
    {
     "name": "stderr",
     "output_type": "stream",
     "text": [
      "Epoch 13 [Train]: 100%|██████████| 8517/8517 [03:33<00:00, 39.84it/s]\n",
      "Epoch 13 [Val]: 100%|██████████| 2133/2133 [00:35<00:00, 59.86it/s]\n"
     ]
    },
    {
     "name": "stdout",
     "output_type": "stream",
     "text": [
      "\n",
      "Epoch 13: Train Loss=0.1557, Acc=0.9353 | Val Loss=0.1724, Acc=0.9327, F1=0.9149\n"
     ]
    },
    {
     "name": "stderr",
     "output_type": "stream",
     "text": [
      "Epoch 14 [Train]: 100%|██████████| 8517/8517 [03:37<00:00, 39.19it/s]\n",
      "Epoch 14 [Val]: 100%|██████████| 2133/2133 [00:35<00:00, 59.46it/s]\n"
     ]
    },
    {
     "name": "stdout",
     "output_type": "stream",
     "text": [
      "\n",
      "Epoch 14: Train Loss=0.1553, Acc=0.9355 | Val Loss=0.1706, Acc=0.9328, F1=0.9146\n"
     ]
    },
    {
     "name": "stderr",
     "output_type": "stream",
     "text": [
      "Epoch 15 [Train]: 100%|██████████| 8517/8517 [03:35<00:00, 39.54it/s]\n",
      "Epoch 15 [Val]: 100%|██████████| 2133/2133 [00:36<00:00, 57.68it/s]\n"
     ]
    },
    {
     "name": "stdout",
     "output_type": "stream",
     "text": [
      "\n",
      "Epoch 15: Train Loss=0.1544, Acc=0.9358 | Val Loss=0.1719, Acc=0.9325, F1=0.9143\n"
     ]
    },
    {
     "name": "stderr",
     "output_type": "stream",
     "text": [
      "Epoch 16 [Train]: 100%|██████████| 8517/8517 [03:36<00:00, 39.40it/s]\n",
      "Epoch 16 [Val]: 100%|██████████| 2133/2133 [00:36<00:00, 59.18it/s]\n"
     ]
    },
    {
     "name": "stdout",
     "output_type": "stream",
     "text": [
      "\n",
      "Epoch 16: Train Loss=0.1541, Acc=0.9360 | Val Loss=0.1709, Acc=0.9335, F1=0.9157\n"
     ]
    },
    {
     "name": "stderr",
     "output_type": "stream",
     "text": [
      "Epoch 17 [Train]: 100%|██████████| 8517/8517 [03:36<00:00, 39.28it/s]\n",
      "Epoch 17 [Val]: 100%|██████████| 2133/2133 [00:35<00:00, 59.97it/s]\n"
     ]
    },
    {
     "name": "stdout",
     "output_type": "stream",
     "text": [
      "\n",
      "Epoch 17: Train Loss=0.1534, Acc=0.9361 | Val Loss=0.1725, Acc=0.9333, F1=0.9154\n"
     ]
    },
    {
     "name": "stderr",
     "output_type": "stream",
     "text": [
      "Epoch 18 [Train]: 100%|██████████| 8517/8517 [03:36<00:00, 39.43it/s]\n",
      "Epoch 18 [Val]: 100%|██████████| 2133/2133 [00:36<00:00, 59.24it/s]\n"
     ]
    },
    {
     "name": "stdout",
     "output_type": "stream",
     "text": [
      "\n",
      "Epoch 18: Train Loss=0.1529, Acc=0.9365 | Val Loss=0.1764, Acc=0.9326, F1=0.9140\n"
     ]
    },
    {
     "name": "stderr",
     "output_type": "stream",
     "text": [
      "Epoch 19 [Train]: 100%|██████████| 8517/8517 [03:39<00:00, 38.85it/s]\n",
      "Epoch 19 [Val]: 100%|██████████| 2133/2133 [00:35<00:00, 59.93it/s]\n"
     ]
    },
    {
     "name": "stdout",
     "output_type": "stream",
     "text": [
      "\n",
      "Epoch 19: Train Loss=0.1525, Acc=0.9365 | Val Loss=0.1760, Acc=0.9325, F1=0.9137\n"
     ]
    },
    {
     "name": "stderr",
     "output_type": "stream",
     "text": [
      "Epoch 20 [Train]: 100%|██████████| 8517/8517 [03:41<00:00, 38.46it/s]\n",
      "Epoch 20 [Val]: 100%|██████████| 2133/2133 [00:37<00:00, 56.98it/s]\n"
     ]
    },
    {
     "name": "stdout",
     "output_type": "stream",
     "text": [
      "\n",
      "Epoch 20: Train Loss=0.1504, Acc=0.9374 | Val Loss=0.1743, Acc=0.9333, F1=0.9155\n"
     ]
    },
    {
     "name": "stderr",
     "output_type": "stream",
     "text": [
      "Epoch 21 [Train]: 100%|██████████| 8517/8517 [03:54<00:00, 36.30it/s]\n",
      "Epoch 21 [Val]: 100%|██████████| 2133/2133 [00:40<00:00, 52.14it/s]\n"
     ]
    },
    {
     "name": "stdout",
     "output_type": "stream",
     "text": [
      "\n",
      "Epoch 21: Train Loss=0.1496, Acc=0.9374 | Val Loss=0.1767, Acc=0.9336, F1=0.9159\n"
     ]
    },
    {
     "name": "stderr",
     "output_type": "stream",
     "text": [
      "Epoch 22 [Train]: 100%|██████████| 8517/8517 [03:49<00:00, 37.07it/s]\n",
      "Epoch 22 [Val]: 100%|██████████| 2133/2133 [00:37<00:00, 57.28it/s]\n"
     ]
    },
    {
     "name": "stdout",
     "output_type": "stream",
     "text": [
      "\n",
      "Epoch 22: Train Loss=0.1495, Acc=0.9377 | Val Loss=0.1754, Acc=0.9332, F1=0.9151\n"
     ]
    },
    {
     "name": "stderr",
     "output_type": "stream",
     "text": [
      "Epoch 23 [Train]: 100%|██████████| 8517/8517 [03:48<00:00, 37.27it/s]\n",
      "Epoch 23 [Val]: 100%|██████████| 2133/2133 [00:37<00:00, 56.84it/s]\n"
     ]
    },
    {
     "name": "stdout",
     "output_type": "stream",
     "text": [
      "\n",
      "Epoch 23: Train Loss=0.1490, Acc=0.9378 | Val Loss=0.1758, Acc=0.9337, F1=0.9158\n"
     ]
    },
    {
     "name": "stderr",
     "output_type": "stream",
     "text": [
      "Epoch 24 [Train]: 100%|██████████| 8517/8517 [03:49<00:00, 37.12it/s]\n",
      "Epoch 24 [Val]: 100%|██████████| 2133/2133 [00:37<00:00, 56.89it/s]\n"
     ]
    },
    {
     "name": "stdout",
     "output_type": "stream",
     "text": [
      "\n",
      "Epoch 24: Train Loss=0.1484, Acc=0.9378 | Val Loss=0.1777, Acc=0.9333, F1=0.9152\n"
     ]
    },
    {
     "name": "stderr",
     "output_type": "stream",
     "text": [
      "Epoch 25 [Train]: 100%|██████████| 8517/8517 [03:49<00:00, 37.10it/s]\n",
      "Epoch 25 [Val]: 100%|██████████| 2133/2133 [00:37<00:00, 57.16it/s]\n"
     ]
    },
    {
     "name": "stdout",
     "output_type": "stream",
     "text": [
      "\n",
      "Epoch 25: Train Loss=0.1472, Acc=0.9381 | Val Loss=0.1756, Acc=0.9336, F1=0.9157\n"
     ]
    },
    {
     "name": "stderr",
     "output_type": "stream",
     "text": [
      "Epoch 26 [Train]: 100%|██████████| 8517/8517 [03:54<00:00, 36.36it/s]\n",
      "Epoch 26 [Val]: 100%|██████████| 2133/2133 [00:35<00:00, 60.66it/s]\n"
     ]
    },
    {
     "name": "stdout",
     "output_type": "stream",
     "text": [
      "\n",
      "Epoch 26: Train Loss=0.1468, Acc=0.9383 | Val Loss=0.1784, Acc=0.9338, F1=0.9160\n"
     ]
    },
    {
     "name": "stderr",
     "output_type": "stream",
     "text": [
      "Epoch 27 [Train]: 100%|██████████| 8517/8517 [03:43<00:00, 38.16it/s]\n",
      "Epoch 27 [Val]: 100%|██████████| 2133/2133 [00:41<00:00, 51.23it/s]\n"
     ]
    },
    {
     "name": "stdout",
     "output_type": "stream",
     "text": [
      "\n",
      "Epoch 27: Train Loss=0.1465, Acc=0.9384 | Val Loss=0.1807, Acc=0.9338, F1=0.9161\n"
     ]
    },
    {
     "name": "stderr",
     "output_type": "stream",
     "text": [
      "Epoch 28 [Train]: 100%|██████████| 8517/8517 [04:12<00:00, 33.70it/s]\n",
      "Epoch 28 [Val]: 100%|██████████| 2133/2133 [00:40<00:00, 52.13it/s]\n"
     ]
    },
    {
     "name": "stdout",
     "output_type": "stream",
     "text": [
      "\n",
      "Epoch 28: Train Loss=0.1468, Acc=0.9384 | Val Loss=0.1808, Acc=0.9339, F1=0.9162\n"
     ]
    },
    {
     "name": "stderr",
     "output_type": "stream",
     "text": [
      "Epoch 29 [Train]: 100%|██████████| 8517/8517 [04:07<00:00, 34.38it/s]\n",
      "Epoch 29 [Val]: 100%|██████████| 2133/2133 [00:41<00:00, 51.03it/s]\n"
     ]
    },
    {
     "name": "stdout",
     "output_type": "stream",
     "text": [
      "\n",
      "Epoch 29: Train Loss=0.1465, Acc=0.9384 | Val Loss=0.1798, Acc=0.9337, F1=0.9160\n"
     ]
    },
    {
     "name": "stderr",
     "output_type": "stream",
     "text": [
      "Epoch 30 [Train]: 100%|██████████| 8517/8517 [04:03<00:00, 35.01it/s]\n",
      "Epoch 30 [Val]: 100%|██████████| 2133/2133 [00:39<00:00, 53.71it/s]\n"
     ]
    },
    {
     "name": "stdout",
     "output_type": "stream",
     "text": [
      "\n",
      "Epoch 30: Train Loss=0.1462, Acc=0.9384 | Val Loss=0.1841, Acc=0.9338, F1=0.9162\n"
     ]
    },
    {
     "data": {
      "image/png": "[encoded data removed]",
      "text/plain": [
       "<Figure size 1200x500 with 2 Axes>"
      ]
     },
     "metadata": {},
     "output_type": "display_data"
    },
    {
     "data": {
      "image/png": "[encoded data removed]",
      "text/plain": [
       "<Figure size 640x480 with 2 Axes>"
      ]
     },
     "metadata": {},
     "output_type": "display_data"
    },
    {
     "data": {
      "image/png": "[encoded data removed]",
      "text/plain": [
       "<Figure size 640x480 with 1 Axes>"
      ]
     },
     "metadata": {},
     "output_type": "display_data"
    }
   ],
   "source": [
    "from sklearn.model_selection import train_test_split\n",
    "# -------------------- Main Pipeline --------------------\n",
    " # columns: URL, label\n",
    "df = pd.read_json(r\"E:\\Phising_detection\\dataset\\urls\\urls.json\")\n",
    "\n",
    "train_df, val_df = train_test_split(df, test_size=0.2, stratify=df['label'], random_state=42)\n",
    "print(f\"Training samples: {len(train_df)}, Validation samples: {len(val_df)}\")\n",
    "vocab = build_vocab(train_df)\n",
    "print(f\"Vocabulary size: {len(vocab)}\")\n",
    "train_data = URLGraphDataset(train_df, vocab)\n",
    "val_data = URLGraphDataset(val_df, vocab)\n",
    "\n",
    "train_loader = DataLoader(train_data, batch_size=64, shuffle=True)\n",
    "val_loader = DataLoader(val_data, batch_size=64)\n",
    "\n",
    "device = torch.device(\"cuda\" if torch.cuda.is_available() else \"cpu\")\n",
    "model = URLGNN(vocab_size=len(vocab)).to(device)\n",
    "optimizer = torch.optim.Adam(model.parameters(), lr=1e-3)\n",
    "scheduler = torch.optim.lr_scheduler.ReduceLROnPlateau(optimizer, mode='max', patience=2, factor=0.5)\n",
    "criterion = nn.BCELoss()\n",
    "\n",
    "model, history = train_model(model, train_loader, val_loader, optimizer, criterion, scheduler=scheduler, epochs=30, patience=5)\n",
    "\n",
    "plot_metrics(history)\n",
    "plot_confusion_matrix(history['val_labels'], history['val_preds'])\n",
    "plot_roc_curve(history['val_labels'], history['val_probs'])\n",
    "\n",
    "torch.save(model.state_dict(), \"best_gnn_model.pt\")\n",
    "with open(\"vocab.json\", \"w\") as f:\n",
    "    json.dump(vocab, f)"
   ]
  },
  {
   "cell_type": "code",
   "execution_count": null,
   "id": "6f619b39",
   "metadata": {},
   "outputs": [],
   "source": []
  },
  {
   "cell_type": "code",
   "execution_count": null,
   "id": "1041aaaf",
   "metadata": {},
   "outputs": [],
   "source": []
  },
  {
   "cell_type": "code",
   "execution_count": null,
   "id": "92bfb1e8",
   "metadata": {},
   "outputs": [],
   "source": []
  }
 ],
 "metadata": {
  "kernelspec": {
   "display_name": "Phising_detection",
   "language": "python",
   "name": "python3"
  },
  "language_info": {
   "codemirror_mode": {
    "name": "ipython",
    "version": 3
   },
   "file_extension": ".py",
   "mimetype": "text/x-python",
   "name": "python",
   "nbconvert_exporter": "python",
   "pygments_lexer": "ipython3",
   "version": "3.13.1"
  }
 },
 "nbformat": 4,
 "nbformat_minor": 5
}
